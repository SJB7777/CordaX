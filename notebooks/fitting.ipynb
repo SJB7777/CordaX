{
 "cells": [
  {
   "cell_type": "code",
   "execution_count": 1,
   "metadata": {},
   "outputs": [],
   "source": [
    "import sys\n",
    "import os\n",
    "\n",
    "package_path = '..'\n",
    "if package_path not in sys.path:\n",
    "    sys.path.append(package_path)"
   ]
  },
  {
   "cell_type": "code",
   "execution_count": 2,
   "metadata": {},
   "outputs": [],
   "source": [
    "%reload_ext autoreload\n",
    "%autoreload 2"
   ]
  },
  {
   "cell_type": "code",
   "execution_count": 3,
   "metadata": {},
   "outputs": [],
   "source": [
    "import os\n",
    "\n",
    "from roi_rectangle import RoiRectangle\n",
    "import numpy as np\n",
    "import matplotlib.pyplot as plt\n",
    "import pandas as pd\n",
    "import tables as tb\n",
    "from tqdm import tqdm"
   ]
  },
  {
   "cell_type": "code",
   "execution_count": 4,
   "metadata": {},
   "outputs": [],
   "source": [
    "from lmfit import Model, create_params\n",
    "from lmfit.models import GaussianModel\n",
    "\n",
    "mod = GaussianModel()"
   ]
  },
  {
   "cell_type": "code",
   "execution_count": 5,
   "metadata": {},
   "outputs": [],
   "source": [
    "from scipy.special import erf\n",
    "\n",
    "\n",
    "def damp_osci(x, x0, oa, rg, ro, phase, sigma, w):\n",
    "    damp = oa * np.exp(-(x-x0)/rg)*np.cos((x-x0)/ro-phase)\n",
    "    err_func = -0.5 * (erf(-1/np.sqrt(2)*(x-x0)/sigma - sigma/w) ) + 0.5\n",
    "    return damp * err_func\n",
    "\n",
    "\n",
    "def exp_decay(x, Amplitude, x0, sigma, w, oa, rg, ro, phase):\n",
    "    fit1 = Amplitude/2*np.exp(-(x-x0)/w + ((sigma/w)**2)/2)*(1-erf(-1/np.sqrt(2)*(x-x0)/sigma - sigma/w))\n",
    "    osc = damp_osci(x, x0, oa, rg, ro, phase, sigma, w)\n",
    "    return fit1 + osc\n",
    "\n",
    "\n",
    "def gaussian(x, amplitude, center, sigma, offset):\n",
    "    return amplitude * np.exp(-np.power(x - center, 2.) / (2 * np.power(sigma, 2.))) + offset\n",
    "\n",
    "mymodel = Model(gaussian)\n",
    "gmodel = Model(exp_decay)"
   ]
  },
  {
   "cell_type": "code",
   "execution_count": 6,
   "metadata": {},
   "outputs": [
    {
     "name": "stdout",
     "output_type": "stream",
     "text": [
      "parameter names: ['Amplitude', 'x0', 'sigma', 'w', 'oa', 'rg', 'ro', 'phase']\n",
      "independent variables: ['x']\n"
     ]
    }
   ],
   "source": [
    "print(f'parameter names: {gmodel.param_names}')\n",
    "print(f'independent variables: {gmodel.independent_vars}')"
   ]
  },
  {
   "cell_type": "code",
   "execution_count": 7,
   "metadata": {},
   "outputs": [
    {
     "data": {
      "text/html": [
       "<table class=\"jp-toc-ignore\"><caption>Parameters</caption><tr><th style='text-align:left'>name</th><th style='text-align:left'>value</th><th style='text-align:left'>initial value</th><th style='text-align:left'>min</th><th style='text-align:left'>max</th><th style='text-align:right'>vary</th></tr><tr><td style='text-align:left'>Amplitude</td><td style='text-align:left'> 0.06000000</td><td style='text-align:left'>0.06</td><td style='text-align:left'>       -inf</td><td style='text-align:left'>        inf</td><td style='text-align:right'>True</td></tr><tr><td style='text-align:left'>x0</td><td style='text-align:left'> 0.00000000</td><td style='text-align:left'>0.0</td><td style='text-align:left'>       -inf</td><td style='text-align:left'>        inf</td><td style='text-align:right'>True</td></tr><tr><td style='text-align:left'>sigma</td><td style='text-align:left'> 0.10000000</td><td style='text-align:left'>0.1</td><td style='text-align:left'>       -inf</td><td style='text-align:left'>        inf</td><td style='text-align:right'>True</td></tr><tr><td style='text-align:left'>w</td><td style='text-align:left'> 0.10000000</td><td style='text-align:left'>0.1</td><td style='text-align:left'>       -inf</td><td style='text-align:left'>        inf</td><td style='text-align:right'>True</td></tr><tr><td style='text-align:left'>oa</td><td style='text-align:left'> 0.00000000</td><td style='text-align:left'>0</td><td style='text-align:left'>       -inf</td><td style='text-align:left'>        inf</td><td style='text-align:right'>False</td></tr><tr><td style='text-align:left'>rg</td><td style='text-align:left'> 10.0000000</td><td style='text-align:left'>10</td><td style='text-align:left'>       -inf</td><td style='text-align:left'>        inf</td><td style='text-align:right'>False</td></tr><tr><td style='text-align:left'>ro</td><td style='text-align:left'> 10.0000000</td><td style='text-align:left'>10</td><td style='text-align:left'>       -inf</td><td style='text-align:left'>        inf</td><td style='text-align:right'>False</td></tr><tr><td style='text-align:left'>phase</td><td style='text-align:left'> 0.00000000</td><td style='text-align:left'>0</td><td style='text-align:left'>       -inf</td><td style='text-align:left'>        inf</td><td style='text-align:right'>False</td></tr></table>"
      ],
      "text/plain": [
       "Parameters([('Amplitude', <Parameter 'Amplitude', value=0.06, bounds=[-inf:inf]>), ('x0', <Parameter 'x0', value=0.0, bounds=[-inf:inf]>), ('sigma', <Parameter 'sigma', value=0.1, bounds=[-inf:inf]>), ('w', <Parameter 'w', value=0.1, bounds=[-inf:inf]>), ('oa', <Parameter 'oa', value=0 (fixed), bounds=[-inf:inf]>), ('rg', <Parameter 'rg', value=10 (fixed), bounds=[-inf:inf]>), ('ro', <Parameter 'ro', value=10 (fixed), bounds=[-inf:inf]>), ('phase', <Parameter 'phase', value=0 (fixed), bounds=[-inf:inf]>)])"
      ]
     },
     "execution_count": 7,
     "metadata": {},
     "output_type": "execute_result"
    }
   ],
   "source": [
    "params = gmodel.make_params(\n",
    "    Amplitude=dict(value=0.06), \n",
    "    x0=dict(value=0.0), \n",
    "    sigma=dict(value=0.1), \n",
    "    w=dict(value=0.1), \n",
    "    oa=dict(value=0, vary=False),\n",
    "    rg=dict(value=10, vary=False), \n",
    "    ro=dict(value=10, vary=False), \n",
    "    phase=dict(value=0, vary=False)\n",
    ")\n",
    "params"
   ]
  },
  {
   "cell_type": "code",
   "execution_count": 17,
   "metadata": {},
   "outputs": [],
   "source": [
    "from src.analyzer.converter import load_npz\n",
    "from src.config import load_config\n",
    "from src.filesystem import get_run_scan_dir"
   ]
  },
  {
   "cell_type": "code",
   "execution_count": 10,
   "metadata": {},
   "outputs": [
    {
     "name": "stdout",
     "output_type": "stream",
     "text": [
      "load_dir: Y:\\240608_FXS\\raw_data\\h5\\type=raw\n",
      "analysis_dir: Y:\\240608_FXS\\analysis_data\n"
     ]
    }
   ],
   "source": [
    "config = load_config()\n",
    "print(\"load_dir:\", config.path.load_dir)\n",
    "print(\"analysis_dir:\", config.path.analysis_dir)"
   ]
  },
  {
   "cell_type": "code",
   "execution_count": 21,
   "metadata": {},
   "outputs": [
    {
     "name": "stdout",
     "output_type": "stream",
     "text": [
      "pon\n",
      "(78, 514, 1030)\n",
      "poff\n",
      "(78, 514, 1030)\n",
      "delay\n",
      "(78,)\n"
     ]
    }
   ],
   "source": [
    "run_n: int = 162\n",
    "scan_n: int = 1\n",
    "npz_file = get_run_scan_dir(config.path.processed_dir, run_n, scan_n, sub_path=f\"run={run_n:04}_scan={scan_n:04}.npz\")\n",
    "_data = load_npz(npz_file)\n",
    "for key, val in _data.items():\n",
    "    print(key)\n",
    "    print(val.shape)"
   ]
  },
  {
   "cell_type": "code",
   "execution_count": 22,
   "metadata": {},
   "outputs": [],
   "source": [
    "poff_images = _data[\"poff\"]\n",
    "pon_images = _data[\"pon\"]\n",
    "delays = _data[\"delay\"]"
   ]
  },
  {
   "cell_type": "code",
   "execution_count": 23,
   "metadata": {},
   "outputs": [
    {
     "data": {
      "text/plain": [
       "(78, 219, 242)"
      ]
     },
     "execution_count": 23,
     "metadata": {},
     "output_type": "execute_result"
    }
   ],
   "source": [
    "roi_rect: RoiRectangle = RoiRectangle(x1=310, y1=217, x2=552, y2=436)\n",
    "roi_poffs = roi_rect.slice(poff_images)\n",
    "roi_pons = roi_rect.slice(pon_images)\n",
    "\n",
    "roi_poffs.shape"
   ]
  },
  {
   "cell_type": "code",
   "execution_count": 24,
   "metadata": {},
   "outputs": [
    {
     "data": {
      "text/html": [
       "<table class=\"jp-toc-ignore\"><caption>Parameters</caption><tr><th style='text-align:left'>name</th><th style='text-align:left'>value</th><th style='text-align:left'>initial value</th><th style='text-align:left'>min</th><th style='text-align:left'>max</th><th style='text-align:right'>vary</th></tr><tr><td style='text-align:left'>amplitude</td><td style='text-align:left'> 100.000000</td><td style='text-align:left'>100</td><td style='text-align:left'>       -inf</td><td style='text-align:left'>        inf</td><td style='text-align:right'>True</td></tr><tr><td style='text-align:left'>center</td><td style='text-align:left'> 100.000000</td><td style='text-align:left'>100</td><td style='text-align:left'>       -inf</td><td style='text-align:left'>        inf</td><td style='text-align:right'>True</td></tr><tr><td style='text-align:left'>sigma</td><td style='text-align:left'> 5.00000000</td><td style='text-align:left'>5</td><td style='text-align:left'>       -inf</td><td style='text-align:left'>        inf</td><td style='text-align:right'>True</td></tr><tr><td style='text-align:left'>offset</td><td style='text-align:left'> 5.00000000</td><td style='text-align:left'>5</td><td style='text-align:left'>       -inf</td><td style='text-align:left'>        inf</td><td style='text-align:right'>True</td></tr></table>"
      ],
      "text/plain": [
       "Parameters([('amplitude', <Parameter 'amplitude', value=100, bounds=[-inf:inf]>), ('center', <Parameter 'center', value=100, bounds=[-inf:inf]>), ('sigma', <Parameter 'sigma', value=5, bounds=[-inf:inf]>), ('offset', <Parameter 'offset', value=5, bounds=[-inf:inf]>)])"
      ]
     },
     "execution_count": 24,
     "metadata": {},
     "output_type": "execute_result"
    }
   ],
   "source": [
    "params = mymodel.make_params(\n",
    "    amplitude=dict(value=100), \n",
    "    center=dict(value=100), \n",
    "    sigma=dict(value=5),\n",
    "    offset=dict(value=5)\n",
    ")\n",
    "params"
   ]
  },
  {
   "cell_type": "code",
   "execution_count": 25,
   "metadata": {},
   "outputs": [
    {
     "ename": "ValueError",
     "evalue": "Assign each parameter an initial value by passing Parameters or keyword arguments to fit.\nMissing parameters: ['Amplitude', 'x0', 'w', 'oa', 'rg', 'ro', 'phase']\nNon initialized parameters: []",
     "output_type": "error",
     "traceback": [
      "\u001b[31m---------------------------------------------------------------------------\u001b[39m",
      "\u001b[31mValueError\u001b[39m                                Traceback (most recent call last)",
      "\u001b[36mCell\u001b[39m\u001b[36m \u001b[39m\u001b[32mIn[25]\u001b[39m\u001b[32m, line 6\u001b[39m\n\u001b[32m      4\u001b[39m sum_0 = image.sum(\u001b[32m0\u001b[39m)\n\u001b[32m      5\u001b[39m sum_1 = image.sum(\u001b[32m1\u001b[39m)\n\u001b[32m----> \u001b[39m\u001b[32m6\u001b[39m result_x = \u001b[43mgmodel\u001b[49m\u001b[43m.\u001b[49m\u001b[43mfit\u001b[49m\u001b[43m(\u001b[49m\u001b[43msum_0\u001b[49m\u001b[43m,\u001b[49m\u001b[43m \u001b[49m\u001b[43mparams\u001b[49m\u001b[43m,\u001b[49m\u001b[43m \u001b[49m\u001b[43mx\u001b[49m\u001b[43m=\u001b[49m\u001b[43mx\u001b[49m\u001b[43m)\u001b[49m\n",
      "\u001b[36mFile \u001b[39m\u001b[32mc:\\Users\\user\\anaconda3\\envs\\xfel\\Lib\\site-packages\\lmfit\\model.py:1143\u001b[39m, in \u001b[36mModel.fit\u001b[39m\u001b[34m(self, data, params, weights, method, iter_cb, scale_covar, verbose, fit_kws, nan_policy, calc_covar, max_nfev, coerce_farray, **kwargs)\u001b[39m\n\u001b[32m   1141\u001b[39m     msg += \u001b[33mf\u001b[39m\u001b[33m'\u001b[39m\u001b[33mMissing parameters: \u001b[39m\u001b[38;5;132;01m{\u001b[39;00m\u001b[38;5;28mstr\u001b[39m(missing)\u001b[38;5;132;01m}\u001b[39;00m\u001b[38;5;130;01m\\n\u001b[39;00m\u001b[33m'\u001b[39m\n\u001b[32m   1142\u001b[39m     msg += \u001b[33mf\u001b[39m\u001b[33m'\u001b[39m\u001b[33mNon initialized parameters: \u001b[39m\u001b[38;5;132;01m{\u001b[39;00m\u001b[38;5;28mstr\u001b[39m(blank)\u001b[38;5;132;01m}\u001b[39;00m\u001b[33m'\u001b[39m\n\u001b[32m-> \u001b[39m\u001b[32m1143\u001b[39m     \u001b[38;5;28;01mraise\u001b[39;00m \u001b[38;5;167;01mValueError\u001b[39;00m(msg)\n\u001b[32m   1145\u001b[39m \u001b[38;5;66;03m# Handle null/missing values.\u001b[39;00m\n\u001b[32m   1146\u001b[39m \u001b[38;5;28;01mif\u001b[39;00m nan_policy \u001b[38;5;129;01mis\u001b[39;00m \u001b[38;5;129;01mnot\u001b[39;00m \u001b[38;5;28;01mNone\u001b[39;00m:\n",
      "\u001b[31mValueError\u001b[39m: Assign each parameter an initial value by passing Parameters or keyword arguments to fit.\nMissing parameters: ['Amplitude', 'x0', 'w', 'oa', 'rg', 'ro', 'phase']\nNon initialized parameters: []"
     ]
    }
   ],
   "source": [
    "image = roi_pons[-20]\n",
    "x = np.arange(image.shape[1])\n",
    "y = np.arange(image.shape[0])\n",
    "sum_0 = image.sum(0)\n",
    "sum_1 = image.sum(1)\n",
    "result_x = gmodel.fit(sum_0, params, x=x)"
   ]
  },
  {
   "cell_type": "code",
   "execution_count": null,
   "metadata": {},
   "outputs": [],
   "source": [
    "result_x.fit_report()"
   ]
  },
  {
   "cell_type": "code",
   "execution_count": null,
   "metadata": {},
   "outputs": [],
   "source": [
    "plt.scatter(x, result_x.init_fit, label='initial fit')\n",
    "plt.scatter(x, result_x.best_fit, label='best fit')\n",
    "plt.scatter(x, sum_0, label='raw data')\n",
    "plt.legend()"
   ]
  },
  {
   "cell_type": "code",
   "execution_count": null,
   "metadata": {},
   "outputs": [],
   "source": [
    "x0s = []\n",
    "y0s = []\n",
    "for image in roi_pons:\n",
    "    x = np.arange(image.shape[1])\n",
    "    y = np.arange(image.shape[0])\n",
    "    sum_0 = image.sum(0)\n",
    "    sum_1 = image.sum(1)\n",
    "    result_x = mymodel.fit(sum_0, params, x=x)\n",
    "    result_y = mymodel.fit(sum_1, params, x=y)\n",
    "\n",
    "    x0 = result_x.params['center'].value\n",
    "    x0s.append(x0)\n",
    "    y0 = result_y.params['center'].value\n",
    "    y0s.append(y0)"
   ]
  },
  {
   "cell_type": "code",
   "execution_count": null,
   "metadata": {},
   "outputs": [],
   "source": [
    "plt.plot(delays, x0s)"
   ]
  },
  {
   "cell_type": "code",
   "execution_count": null,
   "metadata": {},
   "outputs": [],
   "source": [
    "plt.plot(delays, y0s)"
   ]
  }
 ],
 "metadata": {
  "kernelspec": {
   "display_name": "xfel",
   "language": "python",
   "name": "python3"
  },
  "language_info": {
   "codemirror_mode": {
    "name": "ipython",
    "version": 3
   },
   "file_extension": ".py",
   "mimetype": "text/x-python",
   "name": "python",
   "nbconvert_exporter": "python",
   "pygments_lexer": "ipython3",
   "version": "3.13.2"
  },
  "orig_nbformat": 4
 },
 "nbformat": 4,
 "nbformat_minor": 2
}
