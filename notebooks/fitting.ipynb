{
 "cells": [
  {
   "cell_type": "code",
   "execution_count": null,
   "metadata": {},
   "outputs": [],
   "source": [
    "import sys\n",
    "import os\n",
    "\n",
    "package_path = '..'\n",
    "if package_path not in sys.path:\n",
    "    sys.path.append(package_path)"
   ]
  },
  {
   "cell_type": "code",
   "execution_count": null,
   "metadata": {},
   "outputs": [],
   "source": [
    "%reload_ext autoreload\n",
    "%autoreload 2"
   ]
  },
  {
   "cell_type": "code",
   "execution_count": null,
   "metadata": {},
   "outputs": [],
   "source": [
    "import os\n",
    "\n",
    "from roi_rectangle import RoiRectangle\n",
    "import numpy as np\n",
    "import matplotlib.pyplot as plt\n",
    "import pandas as pd\n",
    "import tables as tb\n",
    "from tqdm import tqdm"
   ]
  },
  {
   "cell_type": "code",
   "execution_count": null,
   "metadata": {},
   "outputs": [],
   "source": [
    "from lmfit import Model, create_params\n",
    "from lmfit.models import GaussianModel\n",
    "\n",
    "mod = GaussianModel()"
   ]
  },
  {
   "cell_type": "code",
   "execution_count": null,
   "metadata": {},
   "outputs": [],
   "source": [
    "from scipy.special import erf\n",
    "\n",
    "\n",
    "def damp_osci(x, x0, oa, rg, ro, phase, sigma, w):\n",
    "    damp = oa * np.exp(-(x-x0)/rg)*np.cos((x-x0)/ro-phase)\n",
    "    err_func = -0.5 * (erf(-1/np.sqrt(2)*(x-x0)/sigma - sigma/w) ) + 0.5\n",
    "    return damp * err_func\n",
    "\n",
    "\n",
    "def exp_decay(x, Amplitude, x0, sigma, w, oa, rg, ro, phase):\n",
    "    fit1 = Amplitude/2*np.exp(-(x-x0)/w + ((sigma/w)**2)/2)*(1-erf(-1/np.sqrt(2)*(x-x0)/sigma - sigma/w))\n",
    "    osc = damp_osci(x, x0, oa, rg, ro, phase, sigma, w)\n",
    "    return fit1 + osc\n",
    "\n",
    "\n",
    "def gaussian(x, amplitude, center, sigma, offset):\n",
    "    return amplitude * np.exp(-np.power(x - center, 2.) / (2 * np.power(sigma, 2.))) + offset\n",
    "\n",
    "mymodel = Model(gaussian)\n",
    "gmodel = Model(exp_decay)"
   ]
  },
  {
   "cell_type": "code",
   "execution_count": null,
   "metadata": {},
   "outputs": [],
   "source": [
    "print(f'parameter names: {gmodel.param_names}')\n",
    "print(f'independent variables: {gmodel.independent_vars}')"
   ]
  },
  {
   "cell_type": "code",
   "execution_count": null,
   "metadata": {},
   "outputs": [],
   "source": [
    "params = gmodel.make_params(\n",
    "    Amplitude=dict(value=0.06), \n",
    "    x0=dict(value=0.0), \n",
    "    sigma=dict(value=0.1), \n",
    "    w=dict(value=0.1), \n",
    "    oa=dict(value=0, vary=False),\n",
    "    rg=dict(value=10, vary=False), \n",
    "    ro=dict(value=10, vary=False), \n",
    "    phase=dict(value=0, vary=False)\n",
    ")\n",
    "params"
   ]
  },
  {
   "cell_type": "code",
   "execution_count": null,
   "metadata": {},
   "outputs": [],
   "source": [
    "from src.analyzer.loader import NpzLoader\n",
    "from src.config.config import load_config"
   ]
  },
  {
   "cell_type": "code",
   "execution_count": null,
   "metadata": {},
   "outputs": [],
   "source": [
    "config = load_config()\n",
    "print(\"load_dir:\", config.path.load_dir)\n",
    "print(\"analysis_dir:\", config.path.analysis_dir)"
   ]
  },
  {
   "cell_type": "code",
   "execution_count": null,
   "metadata": {},
   "outputs": [],
   "source": [
    "npz_dir: str = config.path.npz_dir\n",
    "\n",
    "run_n: int = 43\n",
    "scan_n: int = 1\n",
    "npz_file = os.path.join(npz_dir, f\"run={run_n:0>4}_scan={scan_n:0>4}.npz\")\n",
    "_data = NpzLoader(npz_file).data\n",
    "for key, val in _data.items():\n",
    "    print(key)\n",
    "    print(val.shape)"
   ]
  },
  {
   "cell_type": "code",
   "execution_count": null,
   "metadata": {},
   "outputs": [],
   "source": [
    "poff_images = _data[\"poff\"]\n",
    "pon_images = _data[\"pon\"]\n",
    "delays = _data[\"delay\"]"
   ]
  },
  {
   "cell_type": "code",
   "execution_count": null,
   "metadata": {},
   "outputs": [],
   "source": [
    "roi_rect: RoiRectangle = RoiRectangle(x1=310, y1=217, x2=552, y2=436)\n",
    "roi_poffs = roi_rect.slice(poff_images)\n",
    "roi_pons = roi_rect.slice(pon_images)\n",
    "\n",
    "roi_poffs.shape"
   ]
  },
  {
   "cell_type": "code",
   "execution_count": null,
   "metadata": {},
   "outputs": [],
   "source": [
    "params = mymodel.make_params(\n",
    "    amplitude=dict(value=100), \n",
    "    center=dict(value=100), \n",
    "    sigma=dict(value=5),\n",
    "    offset=dict(value=5)\n",
    ")\n",
    "params"
   ]
  },
  {
   "cell_type": "code",
   "execution_count": null,
   "metadata": {},
   "outputs": [],
   "source": [
    "image = roi_pons[-20]\n",
    "x = np.arange(image.shape[1])\n",
    "y = np.arange(image.shape[0])\n",
    "sum_0 = image.sum(0)\n",
    "sum_1 = image.sum(1)\n",
    "result_x = gmodel.fit(sum_0, params, x=x)"
   ]
  },
  {
   "cell_type": "code",
   "execution_count": null,
   "metadata": {},
   "outputs": [],
   "source": [
    "result_x.fit_report()"
   ]
  },
  {
   "cell_type": "code",
   "execution_count": null,
   "metadata": {},
   "outputs": [],
   "source": [
    "plt.scatter(x, result_x.init_fit, label='initial fit')\n",
    "plt.scatter(x, result_x.best_fit, label='best fit')\n",
    "plt.scatter(x, sum_0, label='raw data')\n",
    "plt.legend()"
   ]
  },
  {
   "cell_type": "code",
   "execution_count": null,
   "metadata": {},
   "outputs": [],
   "source": [
    "x0s = []\n",
    "y0s = []\n",
    "for image in roi_pons:\n",
    "    x = np.arange(image.shape[1])\n",
    "    y = np.arange(image.shape[0])\n",
    "    sum_0 = image.sum(0)\n",
    "    sum_1 = image.sum(1)\n",
    "    result_x = mymodel.fit(sum_0, params, x=x)\n",
    "    result_y = mymodel.fit(sum_1, params, x=y)\n",
    "\n",
    "    x0 = result_x.params['center'].value\n",
    "    x0s.append(x0)\n",
    "    y0 = result_y.params['center'].value\n",
    "    y0s.append(y0)"
   ]
  },
  {
   "cell_type": "code",
   "execution_count": null,
   "metadata": {},
   "outputs": [],
   "source": [
    "plt.plot(delays, x0s)"
   ]
  },
  {
   "cell_type": "code",
   "execution_count": null,
   "metadata": {},
   "outputs": [],
   "source": [
    "plt.plot(delays, y0s)"
   ]
  }
 ],
 "metadata": {
  "kernelspec": {
   "display_name": "isaac",
   "language": "python",
   "name": "python3"
  },
  "language_info": {
   "codemirror_mode": {
    "name": "ipython",
    "version": 3
   },
   "file_extension": ".py",
   "mimetype": "text/x-python",
   "name": "python",
   "nbconvert_exporter": "python",
   "pygments_lexer": "ipython3",
   "version": "3.10.14"
  },
  "orig_nbformat": 4
 },
 "nbformat": 4,
 "nbformat_minor": 2
}