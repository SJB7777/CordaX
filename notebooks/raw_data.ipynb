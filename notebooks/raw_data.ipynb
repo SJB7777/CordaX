{
 "cells": [
  {
   "cell_type": "code",
   "execution_count": null,
   "metadata": {},
   "outputs": [],
   "source": [
    "import sys\n",
    "\n",
    "package_path = '..'\n",
    "if package_path not in sys.path:\n",
    "    sys.path.append(package_path)"
   ]
  },
  {
   "cell_type": "code",
   "execution_count": null,
   "metadata": {},
   "outputs": [],
   "source": [
    "%reload_ext autoreload\n",
    "%autoreload 2"
   ]
  },
  {
   "cell_type": "code",
   "execution_count": null,
   "metadata": {},
   "outputs": [],
   "source": [
    "import numpy as np\n",
    "import matplotlib.pyplot as plt\n",
    "\n",
    "from src.config.config import load_config\n",
    "from src.processor.loader import HDF5FileLoader\n",
    "from src.filesystem import get_run_scan_directory"
   ]
  },
  {
   "cell_type": "code",
   "execution_count": null,
   "metadata": {},
   "outputs": [],
   "source": [
    "config = load_config()\n",
    "load_dir = config.path.load_dir\n",
    "file = get_run_scan_directory(load_dir, 144, 1, 1)\n",
    "loader = HDF5FileLoader(file)\n",
    "data = loader.get_data()\n",
    "\n",
    "poff_images = data[\"poff\"]\n",
    "poff_qbpm = data[\"poff_qbpm\"]\n",
    "print(f\"{poff_images.shape=}\")\n",
    "print(f\"{poff_qbpm.shape=}\")"
   ]
  },
  {
   "cell_type": "code",
   "execution_count": null,
   "metadata": {},
   "outputs": [],
   "source": [
    "fig, ax = plt.subplots(1, 1, figsize=(10, 8))\n",
    "ax.imshow(np.log1p(poff_images.sum(0)))\n",
    "ax.set_title(\"Pump Off Images Sum\")"
   ]
  },
  {
   "cell_type": "code",
   "execution_count": null,
   "metadata": {},
   "outputs": [],
   "source": [
    "from roi_rectangle import RoiRectangle\n",
    "\n",
    "roi_rect = RoiRectangle(380, 300, 480, 380)\n",
    "poff_roi_images = roi_rect.slice(poff_images)\n",
    "\n",
    "fig, ax = plt.subplots(1, 1, figsize=(10, 8))\n",
    "ax.imshow(np.log1p(poff_roi_images.sum(0)))\n",
    "ax.set_title(f\"Pump Off ROI Images Sum ({roi_rect.to_tuple()})\")"
   ]
  },
  {
   "cell_type": "code",
   "execution_count": null,
   "metadata": {},
   "outputs": [],
   "source": [
    "intensities = poff_roi_images.sum(axis=(1, 2))\n",
    "delays = loader.delay\n",
    "fig, ax = plt.subplots(1, 1, figsize=(10, 8))\n",
    "ax.scatter(poff_qbpm, intensities)\n",
    "ax.set_title(f\"Pump Off QBPM-Intensity\")"
   ]
  },
  {
   "cell_type": "code",
   "execution_count": null,
   "metadata": {},
   "outputs": [],
   "source": [
    "image = poff_roi_images[0]\n",
    "\n",
    "hist, bins = np.histogram(image.flatten(), bins=500, range=[-1,30])\n",
    "\n",
    "# 히스토그램 그리기\n",
    "plt.figure(figsize=(10, 6))\n",
    "plt.hist(image.flatten(), bins=500, range=[-1,30], color='gray', alpha=0.7)\n",
    "plt.title('Image Histogram')\n",
    "plt.xlabel('Pixel Intensity')\n",
    "plt.ylabel('Frequency')\n",
    "plt.ylim(None, 800)\n",
    "plt.grid(True)\n",
    "plt.show()"
   ]
  },
  {
   "cell_type": "code",
   "execution_count": null,
   "metadata": {},
   "outputs": [],
   "source": [
    "image = np.maximum(poff_roi_images[0], 0)\n",
    "\n",
    "hist, bins = np.histogram(image.flatten(), bins=500, range=[-1,30])\n",
    "\n",
    "# 히스토그램 그리기\n",
    "plt.figure(figsize=(10, 6))\n",
    "plt.hist(image.flatten(), bins=500, range=[-1,30], color='gray', alpha=0.7)\n",
    "plt.title('Image Histogram')\n",
    "plt.xlabel('Pixel Intensity')\n",
    "plt.ylabel('Frequency')\n",
    "plt.ylim(None, 800)\n",
    "plt.grid(True)\n",
    "plt.show()"
   ]
  },
  {
   "cell_type": "code",
   "execution_count": null,
   "metadata": {},
   "outputs": [],
   "source": [
    "fig, ax = plt.subplots(1, 1, figsize=(10, 8))\n",
    "ax.imshow(np.log1p(np.maximum(poff_roi_images, 0).sum(0)))\n",
    "ax.set_title(f\"Pump Off ROI Images Sum ({roi_rect.to_tuple()})\")"
   ]
  },
  {
   "cell_type": "code",
   "execution_count": null,
   "metadata": {},
   "outputs": [],
   "source": [
    "from src.preprocessor.generic_preprocessors import subtract_dark\n",
    "no_zeros = np.maximum(poff_images, 0)\n",
    "no_zero_sub_darks = subtract_dark(no_zeros)\n",
    "\n",
    "roi_no_zero_sub_darks = roi_rect.slice(no_zero_sub_darks)\n",
    "fig, ax = plt.subplots(2, 1, figsize=(10, 8))\n",
    "ax.imshow(np.log1p(roi_no_zero_sub_darks.sum(0)))\n",
    "ax.set_title(f\"Pump Off Roi Images Sum sub Dark\")"
   ]
  },
  {
   "cell_type": "code",
   "execution_count": null,
   "metadata": {},
   "outputs": [],
   "source": [
    "from src.preprocessor.image_qbpm_preprocessor import remove_outliers_using_ransac\n",
    "ransac_poff_images, ransac_poff_qbpm = remove_outliers_using_ransac((no_zero_sub_darks, poff_qbpm))\n",
    "roi_ransac_poff_images = roi_rect.slice(ransac_poff_images)\n",
    "fig, ax = plt.subplots(1, 1, figsize=(10, 8))\n",
    "ax.imshow(np.log1p(roi_ransac_poff_images.sum(0)))"
   ]
  },
  {
   "cell_type": "code",
   "execution_count": null,
   "metadata": {},
   "outputs": [],
   "source": [
    "image = roi_ransac_poff_images[0]\n",
    "hist, bins = np.histogram(image.flatten(), bins=500, range=[-1,30])\n",
    "\n",
    "# 히스토그램 그리기\n",
    "plt.figure(figsize=(10, 6))\n",
    "plt.hist(image.flatten(), bins=500, range=[-1,30], color='gray', alpha=0.7)\n",
    "plt.title('Image Histogram')\n",
    "plt.xlabel('Pixel Intensity')\n",
    "plt.ylabel('Frequency')\n",
    "plt.ylim(None, 800)\n",
    "plt.grid(True)\n",
    "plt.show()"
   ]
  },
  {
   "cell_type": "code",
   "execution_count": null,
   "metadata": {},
   "outputs": [],
   "source": []
  }
 ],
 "metadata": {
  "kernelspec": {
   "display_name": "xfel",
   "language": "python",
   "name": "python3"
  },
  "language_info": {
   "codemirror_mode": {
    "name": "ipython",
    "version": 3
   },
   "file_extension": ".py",
   "mimetype": "text/x-python",
   "name": "python",
   "nbconvert_exporter": "python",
   "pygments_lexer": "ipython3",
   "version": "3.9.19"
  }
 },
 "nbformat": 4,
 "nbformat_minor": 2
}