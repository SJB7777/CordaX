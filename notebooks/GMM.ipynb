{
 "cells": [
  {
   "cell_type": "code",
   "execution_count": null,
   "metadata": {},
   "outputs": [],
   "source": [
    "import sys\n",
    "import os\n",
    "\n",
    "package_path: str = '..'\n",
    "if package_path not in sys.path:\n",
    "    sys.path.append(package_path)"
   ]
  },
  {
   "cell_type": "code",
   "execution_count": null,
   "metadata": {},
   "outputs": [],
   "source": [
    "%reload_ext autoreload\n",
    "%autoreload 2"
   ]
  },
  {
   "cell_type": "code",
   "execution_count": null,
   "metadata": {},
   "outputs": [],
   "source": [
    "from src.analyzer.loader import NpzLoader\n",
    "from src.utils.file_util import get_run_scan_directory\n",
    "from src.config.config import load_config, ExpConfig\n",
    "\n",
    "\n",
    "config: ExpConfig = load_config()\n",
    "config.path"
   ]
  },
  {
   "cell_type": "code",
   "execution_count": null,
   "metadata": {},
   "outputs": [],
   "source": [
    "import numpy as np\n",
    "import matplotlib.pyplot as plt\n",
    "import numpy.typing as npt\n",
    "from roi_rectangle import RoiRectangle"
   ]
  },
  {
   "cell_type": "code",
   "execution_count": null,
   "metadata": {},
   "outputs": [],
   "source": [
    "npz_dir: str = config.path.npz_dir\n",
    "run_n: int = 62\n",
    "npz_file: str = os.path.join(get_run_scan_directory(npz_dir, run_n, 1), f\"run={run_n:0>3}, scan=001.npz\")\n",
    "\n",
    "_data: dict[str: npt.NDArray] = NpzLoader(npz_file).data\n",
    "delays: npt.NDArray = _data[\"delay\"]\n",
    "pons: npt.NDArray = _data[\"pon\"]\n",
    "poffs: npt.NDArray = _data[\"poff\"]\n",
    "\n",
    "print(f\"{delays.shape = }\")\n",
    "print(f\"{pons.shape = }\")\n",
    "print(f\"{poffs.shape = }\")"
   ]
  },
  {
   "cell_type": "code",
   "execution_count": null,
   "metadata": {},
   "outputs": [],
   "source": [
    "roi_rect: RoiRectangle = RoiRectangle(360, 80, 440, 150)\n",
    "roi_poffs: npt.NDArray = roi_rect.slice(poffs)\n",
    "\n",
    "fig, ax = plt.subplots(1, 1, figsize=(10, 8))\n",
    "ax.imshow(np.log1p(roi_poffs[0]))\n",
    "ax.set_title(\"Pump Off Images Sum\")\n",
    "\n",
    "roi_rect"
   ]
  },
  {
   "cell_type": "code",
   "execution_count": null,
   "metadata": {},
   "outputs": [],
   "source": [
    "img: npt.NDArray = roi_poffs[0]\n",
    "\n",
    "img2: npt.NDArray = img.reshape(-1, 1)\n",
    "print(img2)\n",
    "img2.shape"
   ]
  },
  {
   "cell_type": "code",
   "execution_count": null,
   "metadata": {},
   "outputs": [],
   "source": [
    "from sklearn.mixture import GaussianMixture as GMM\n",
    "\n",
    "gmm_model = GMM(n_components=4, covariance_type='full').fit(img2)\n",
    "gmm_labels: npt.NDArray[np.int64] = gmm_model.predict(img2)\n",
    "print(f\"{gmm_labels.shape = }\")\n",
    "# gmm_labels.shape = (5600,)\n",
    "\n",
    "original_shape: tuple[int, int] = img.shape\n",
    "segmented: npt.NDArray[np.int64] = gmm_labels.reshape(original_shape[0], original_shape[1])\n",
    "print(f\"{segmented.shape = }\")\n",
    "# segmented.shape = (70, 80)\n",
    "weights, means, covars = gmm_model.weights_, gmm_model.means_, gmm_model.covariances_\n",
    "\n",
    "print(f\"{weights.shape = }\")\n",
    "print(f\"{means.shape = }\")\n",
    "print(f\"{covars.shape = }\")\n",
    "# weights.shape = (4,)\n",
    "# means.shape = (4, 1)\n",
    "# covars.shape = (4, 1, 1)"
   ]
  },
  {
   "cell_type": "code",
   "execution_count": null,
   "metadata": {},
   "outputs": [],
   "source": [
    "fig, ax = plt.subplots(1, 1, figsize=(10, 8))\n",
    "ax.imshow(np.log1p(segmented))\n",
    "ax.set_title(\"Pump Off segmented\")"
   ]
  },
  {
   "cell_type": "code",
   "execution_count": null,
   "metadata": {},
   "outputs": [],
   "source": [
    "image = np.maximum(roi_poffs[0], 1)"
   ]
  },
  {
   "cell_type": "code",
   "execution_count": null,
   "metadata": {},
   "outputs": [],
   "source": [
    "fig, ax = plt.subplots(1, 1, figsize=(10, 8))\n",
    "ax.imshow(np.log1p(image))\n",
    "ax.set_title(\"img\");"
   ]
  },
  {
   "cell_type": "code",
   "execution_count": null,
   "metadata": {},
   "outputs": [],
   "source": [
    "x, y = np.meshgrid(np.arange(image.shape[1]), np.arange(image.shape[0]))\n",
    "coordinates = np.column_stack([x.ravel(), y.ravel()])\n",
    "pixel_values = image.ravel()\n",
    "\n",
    "# 좌표와 픽셀 값을 결합한 데이터 생성 (x, y, pixel_value)\n",
    "data = np.column_stack([coordinates, pixel_values])\n",
    "# Gaussian Mixture Model (GMM) 적용\n",
    "gmm = GMM(n_components=10, covariance_type='full')\n",
    "gmm.fit(data)"
   ]
  },
  {
   "cell_type": "code",
   "execution_count": null,
   "metadata": {},
   "outputs": [],
   "source": [
    "gmm_labels: npt.NDArray[np.int64] = gmm.predict(data)\n",
    "print(f\"{gmm_labels.shape = }\")\n",
    "\n",
    "original_shape: tuple[int, int] = image.shape\n",
    "segmented: npt.NDArray[np.int64] = gmm_labels.reshape(original_shape[0], original_shape[1])\n",
    "\n",
    "fig, ax = plt.subplots(1, 1, figsize=(10, 8))\n",
    "ax.imshow(np.log1p(segmented))\n",
    "ax.set_title(\"Pump Off segmented\");"
   ]
  },
  {
   "cell_type": "code",
   "execution_count": null,
   "metadata": {},
   "outputs": [],
   "source": [
    "# GMM으로부터 새로운 데이터 생성\n",
    "generated_data, _ = gmm.sample(n_samples=img.size)\n",
    "\n",
    "# 생성된 데이터에서 좌표와 픽셀 값 분리\n",
    "generated_coordinates = generated_data[:, :2].astype(int)\n",
    "generated_pixel_values = generated_data[:, 2]\n",
    "\n",
    "# 생성된 이미지를 원본과 동일한 크기로 복원\n",
    "generated_image = np.zeros_like(img)\n",
    "for coord, pixel_value in zip(generated_coordinates, generated_pixel_values):\n",
    "    x, y = coord\n",
    "    if 0 <= x < generated_image.shape[1] and 0 <= y < generated_image.shape[0]:\n",
    "        generated_image[y, x] = pixel_value\n",
    "\n",
    "# 생성된 이미지 시각화\n",
    "plt.figure(figsize=(8, 8))\n",
    "plt.imshow(np.log1p(generated_image), cmap='viridis')\n",
    "plt.title(\"Generated Image from GMM\");"
   ]
  },
  {
   "cell_type": "code",
   "execution_count": null,
   "metadata": {},
   "outputs": [],
   "source": [
    "log_img = np.log1p(img)\n",
    "\n",
    "x, y = np.meshgrid(np.arange(img.shape[1]), np.arange(img.shape[0]))\n",
    "data = np.stack([x.ravel(), y.ravel(), img.ravel()], axis=1)\n",
    "\n",
    "gmm_model = GMM(n_components=5, covariance_type='full').fit(data)\n",
    "gmm_labels: npt.NDArray[np.int64] = gmm_model.predict(data)\n",
    "segmented = gmm_labels.reshape(*img.shape)\n",
    "segmented"
   ]
  },
  {
   "cell_type": "code",
   "execution_count": null,
   "metadata": {},
   "outputs": [],
   "source": [
    "fig, ax = plt.subplots(1, 1, figsize=(10, 8))\n",
    "ax.imshow(segmented)\n",
    "ax.set_title(\"Pump Off segmented\")"
   ]
  },
  {
   "cell_type": "code",
   "execution_count": null,
   "metadata": {},
   "outputs": [],
   "source": [
    "images = roi_poffs\n",
    "\n",
    "x, y = np.meshgrid(np.arange(images.shape[2]), np.arange(images.shape[1]))\n",
    "coordinates = np.column_stack([x.ravel(), y.ravel()])\n",
    "pixel_values = image.ravel()\n",
    "\n",
    "mask = pixel_values > 0.5\n",
    "filtered_coordinates = coordinates[mask]\n",
    "filtered_pixel_values = pixel_values[mask]\n",
    "\n",
    "# 좌표와 픽셀 값을 결합한 데이터 생성 (x, y, pixel_value)\n",
    "data = np.column_stack([filtered_coordinates, filtered_pixel_values])\n",
    "\n",
    "gmm = GMM(n_components=20, covariance_type='full')\n",
    "gmm.fit(data)\n",
    "gmm_labels: npt.NDArray[np.int64] = gmm.predict(data)\n",
    "\n",
    "# segmented 배열을 원본 이미지 크기로 초기화하고, 0으로 채움\n",
    "segmented = np.zeros_like(pixel_values, dtype=int)\n",
    "# mask에 해당하는 부분을 GMM 레이블로 채움\n",
    "segmented[mask] = gmm_labels + 1 \n",
    "segmented = segmented.reshape(*img.shape)\n",
    "print(segmented.shape)"
   ]
  },
  {
   "cell_type": "code",
   "execution_count": null,
   "metadata": {},
   "outputs": [],
   "source": [
    "fig, ax = plt.subplots(1, 1, figsize=(10, 8))\n",
    "ax.imshow(segmented)\n",
    "ax.set_title(\"Pump Off segmented\")"
   ]
  },
  {
   "cell_type": "code",
   "execution_count": null,
   "metadata": {},
   "outputs": [],
   "source": [
    "# GMM으로부터 새로운 데이터 생성\n",
    "generated_data, _ = gmm.sample(n_samples=len(filtered_pixel_values))\n",
    "\n",
    "# 생성된 데이터에서 좌표와 픽셀 값 분리\n",
    "generated_coordinates = generated_data[:, :2].astype(int)\n",
    "generated_pixel_values = generated_data[:, 2]\n",
    "\n",
    "# 생성된 이미지를 원본과 동일한 크기로 복원\n",
    "generated_image = np.zeros_like(image)\n",
    "for coord, pixel_value in zip(generated_coordinates, generated_pixel_values):\n",
    "    x, y = coord\n",
    "    if 0 <= x < generated_image.shape[1] and 0 <= y < generated_image.shape[0]:\n",
    "        generated_image[y, x] = pixel_value\n",
    "\n",
    "# 생성된 이미지 시각화\n",
    "plt.figure(figsize=(8, 8))\n",
    "plt.imshow(np.log1p(generated_image), cmap='viridis')\n",
    "plt.title(\"Generated Image from GMM (Non-zero Pixels)\")\n",
    "plt.show()"
   ]
  }
 ],
 "metadata": {
  "kernelspec": {
   "display_name": "xfel",
   "language": "python",
   "name": "python3"
  },
  "language_info": {
   "codemirror_mode": {
    "name": "ipython",
    "version": 3
   },
   "file_extension": ".py",
   "mimetype": "text/x-python",
   "name": "python",
   "nbconvert_exporter": "python",
   "pygments_lexer": "ipython3",
   "version": "3.9.19"
  }
 },
 "nbformat": 4,
 "nbformat_minor": 2
}