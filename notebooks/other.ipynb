{
 "cells": [
  {
   "cell_type": "code",
   "execution_count": null,
   "metadata": {},
   "outputs": [],
   "source": [
    "from skimage.transform import warp_polar\n",
    "from skimage.measure import moments\n",
    "\n",
    "# image = roi_pon_images.sum(axis=0)\n",
    "image = roi_pon_images[-1]\n",
    "m = moments(image, order=1)\n",
    "x_com = m[1, 0] / m[0, 0]\n",
    "y_com = m[0, 1] / m[0, 0]\n",
    "\n",
    "warped = warp_polar(image, center=(x_com, y_com) ,scaling='log', radius=200)\n",
    "warped_image = warped.T\n",
    "fig, ax = plt.subplots(1, 1, figsize=(10, 6))\n",
    "ax.imshow(np.log1p(warped_image))\n",
    "ax.set_xlabel('Angle')\n",
    "\n",
    "x_ticks = np.arange(0, warped_image.shape[1], 20)\n",
    "ax.set_xticks(x_ticks)\n",
    "\n",
    "plt.show()"
   ]
  }
 ],
 "metadata": {
  "language_info": {
   "name": "python"
  }
 },
 "nbformat": 4,
 "nbformat_minor": 2
}
