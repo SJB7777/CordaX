{
 "cells": [
  {
   "cell_type": "code",
   "execution_count": 1,
   "id": "c59cee52-b3ae-4020-9f49-3016363f3699",
   "metadata": {},
   "outputs": [
    {
     "ename": "ModuleNotFoundError",
     "evalue": "No module named 'epics'",
     "output_type": "error",
     "traceback": [
      "\u001b[0;31m---------------------------------------------------------------------------\u001b[0m",
      "\u001b[0;31mModuleNotFoundError\u001b[0m                       Traceback (most recent call last)",
      "Cell \u001b[0;32mIn[1], line 1\u001b[0m\n\u001b[0;32m----> 1\u001b[0m \u001b[39mfrom\u001b[39;00m \u001b[39mepics\u001b[39;00m \u001b[39mimport\u001b[39;00m caget\n\u001b[1;32m      3\u001b[0m \u001b[39mimport\u001b[39;00m \u001b[39mnumpy\u001b[39;00m \u001b[39mas\u001b[39;00m \u001b[39mnp\u001b[39;00m\n\u001b[1;32m      4\u001b[0m \u001b[39mimport\u001b[39;00m \u001b[39mmatplotlib\u001b[39;00m\u001b[39m.\u001b[39;00m\u001b[39mpyplot\u001b[39;00m \u001b[39mas\u001b[39;00m \u001b[39mplt\u001b[39;00m\n",
      "\u001b[0;31mModuleNotFoundError\u001b[0m: No module named 'epics'"
     ]
    }
   ],
   "source": [
    "from epics import caget\n",
    "\n",
    "import numpy as np\n",
    "import matplotlib.pyplot as plt\n",
    "\n",
    "from lmfit.models import GaussianModel\n",
    "\n",
    "mod = GaussianModel()"
   ]
  },
  {
   "cell_type": "code",
   "execution_count": null,
   "id": "9e74c372-1174-4852-8bb3-a0871da2a80e",
   "metadata": {},
   "outputs": [],
   "source": [
    "table_th = []\n",
    "table_hori_pos = []"
   ]
  },
  {
   "cell_type": "code",
   "execution_count": null,
   "id": "77e5c513-261a-4e50-9df6-50ae7990c2df",
   "metadata": {},
   "outputs": [],
   "source": [
    "camera_pv = \"BL:HX:EH1:Free5:image1:ArrayData\""
   ]
  },
  {
   "cell_type": "code",
   "execution_count": null,
   "id": "d86e6899-a083-4354-844b-624ca28fc5b2",
   "metadata": {},
   "outputs": [],
   "source": [
    "img = caget(camera_pv)"
   ]
  },
  {
   "cell_type": "code",
   "execution_count": null,
   "id": "e1f4d408-02ce-44a5-98c6-a73763d98e43",
   "metadata": {},
   "outputs": [],
   "source": [
    "img = caget(camera_pv)\n",
    "plt.figure(dpi=120)\n",
    "plt.imshow(img.reshape(580, 780))\n",
    "plt.show()"
   ]
  },
  {
   "cell_type": "code",
   "execution_count": null,
   "id": "beb02e35-007f-41da-84f6-d36e52579c1d",
   "metadata": {},
   "outputs": [],
   "source": [
    "img = caget(camera_pv)\n",
    "plt.figure(dpi=120)\n",
    "plt.imshow(img.reshape(580, 780)[240:270, 300:500])\n",
    "plt.show()"
   ]
  },
  {
   "cell_type": "code",
   "execution_count": null,
   "id": "d88e435c-ed67-4387-ab8d-0a50bb8b453d",
   "metadata": {},
   "outputs": [],
   "source": [
    "img = caget(camera_pv)\n",
    "\n",
    "plt.figure(dpi=120)\n",
    "plt.imshow(img.reshape(580, 780)[240:270, 300:500])\n",
    "plt.show()\n",
    "\n",
    "line = img.reshape(580, 780)[240:270].sum(axis=0)\n",
    "line = line - line[0:100].mean()\n",
    "\n",
    "\n",
    "x = np.arange(line.size)\n",
    "y = np.maximum(line, 0)\n",
    "pars = mod.guess(y, x=x)\n",
    "out = mod.fit(y, pars, x=x)\n",
    "\n",
    "plt.figure(dpi=150)\n",
    "plt.plot(y, '.')\n",
    "plt.plot(out.best_fit)\n",
    "plt.show()"
   ]
  },
  {
   "cell_type": "code",
   "execution_count": null,
   "id": "47677f59-f374-45ad-91d9-c6780df22cdc",
   "metadata": {},
   "outputs": [],
   "source": [
    "table_th.append(90)\n",
    "table_hori_pos.append(out.params['center'].value)"
   ]
  },
  {
   "cell_type": "code",
   "execution_count": null,
   "id": "b18ae840-ab8a-4455-b06d-15fcd405245c",
   "metadata": {},
   "outputs": [],
   "source": [
    "table_th, table_hori_pos"
   ]
  },
  {
   "cell_type": "code",
   "execution_count": null,
   "id": "18c79a9e-34c8-4a4d-89ab-dab1c202d278",
   "metadata": {},
   "outputs": [],
   "source": [
    "table_th[-1]=70"
   ]
  },
  {
   "cell_type": "code",
   "execution_count": null,
   "id": "fe82e95c-a62b-48e2-878b-44a4c517beee",
   "metadata": {},
   "outputs": [],
   "source": [
    "from lmfit import minimize, Parameters\n",
    "\n",
    "def model(params, x):\n",
    "    r = params['r']\n",
    "    phi = params['phi']\n",
    "    offset = params['offset']\n",
    "\n",
    "    return r * np.sin(np.deg2rad(x) + phi) + offset\n",
    "def residual(params, x, data):\n",
    "    model_value = model(params, x)\n",
    "\n",
    "    return (data-model_value)\n",
    "\n",
    "\n",
    "params = Parameters()\n",
    "params.add('r', value=10)\n",
    "params.add('phi', value=0.007)\n",
    "params.add('offset', value=0.2)\n",
    "\n",
    "out = minimize(residual, params, args=(table_th, table_hori_pos))\n"
   ]
  },
  {
   "cell_type": "code",
   "execution_count": null,
   "id": "76504efb-9c12-4faf-9dfb-90159c1fea7d",
   "metadata": {},
   "outputs": [],
   "source": [
    "out.params"
   ]
  },
  {
   "cell_type": "code",
   "execution_count": null,
   "id": "698b2921-d723-44b5-9549-66020e35d3cf",
   "metadata": {},
   "outputs": [],
   "source": [
    "out.params['offset'] / 780 * 1000"
   ]
  },
  {
   "cell_type": "code",
   "execution_count": null,
   "id": "b599a691-1bb9-4e69-b1c9-cc40f2382f36",
   "metadata": {},
   "outputs": [],
   "source": [
    "plt.figure()\n",
    "plt.plot(table_th, table_hori_pos, '.')\n",
    "plt.plot(table_th, model(out.params, table_th))\n",
    "plt.show()"
   ]
  },
  {
   "cell_type": "code",
   "execution_count": null,
   "id": "43ab84b9-b5e4-4bba-8f24-794e8c7ba0c2",
   "metadata": {},
   "outputs": [],
   "source": []
  }
 ],
 "metadata": {
  "kernelspec": {
   "display_name": "Python 3 (ipykernel)",
   "language": "python",
   "name": "python3"
  },
  "language_info": {
   "codemirror_mode": {
    "name": "ipython",
    "version": 3
   },
   "file_extension": ".py",
   "mimetype": "text/x-python",
   "name": "python",
   "nbconvert_exporter": "python",
   "pygments_lexer": "ipython3",
   "version": "3.10.14"
  }
 },
 "nbformat": 4,
 "nbformat_minor": 5
}
