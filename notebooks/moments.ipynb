{
 "cells": [
  {
   "cell_type": "code",
   "execution_count": null,
   "metadata": {},
   "outputs": [],
   "source": [
    "import sys\n",
    "import os\n",
    "\n",
    "package_path = '..'\n",
    "if package_path not in sys.path:\n",
    "    sys.path.append(package_path)"
   ]
  },
  {
   "cell_type": "code",
   "execution_count": null,
   "metadata": {},
   "outputs": [],
   "source": [
    "%load_ext autoreload\n",
    "%autoreload 2"
   ]
  },
  {
   "cell_type": "code",
   "execution_count": null,
   "metadata": {},
   "outputs": [],
   "source": [
    "from src.config.config import load_config\n",
    "config = load_config()\n",
    "config.path.load_dir"
   ]
  },
  {
   "cell_type": "code",
   "execution_count": null,
   "metadata": {},
   "outputs": [],
   "source": [
    "from src.analyzer.loader import NpzLoader\n",
    "\n",
    "import matplotlib.pyplot as plt\n",
    "import pandas as pd\n",
    "import numpy as np\n",
    "from roi_rectangle import RoiRectangle"
   ]
  },
  {
   "cell_type": "markdown",
   "metadata": {},
   "source": [
    "# Load Data"
   ]
  },
  {
   "cell_type": "code",
   "execution_count": null,
   "metadata": {},
   "outputs": [],
   "source": [
    "run_num: int = 144\n",
    "print(\"run_num:\", run_num)\n",
    "processed_dir = config.path.processed_dir\n",
    "npz_file = os.path.join(processed_dir, f\"run={run_num:0>4}_scan=0001.npz\")\n",
    "_data = NpzLoader(npz_file).data\n",
    "for key, values in _data.items():\n",
    "    print(f\"{key} shape: {values.shape}\")\n"
   ]
  },
  {
   "cell_type": "code",
   "execution_count": null,
   "metadata": {},
   "outputs": [],
   "source": [
    "pon_images = np.maximum(_data[\"pon\"], 0)\n",
    "poff_images = np.maximum(_data[\"poff\"], 0)\n",
    "delays = _data[\"delay\"]\n",
    "print(\"Pump Off Shape:\", poff_images.shape)\n",
    "print(\"Pump On Shape:\", pon_images.shape)\n",
    "print(\"Delays Shape:\", delays.shape)"
   ]
  },
  {
   "cell_type": "code",
   "execution_count": null,
   "metadata": {},
   "outputs": [],
   "source": [
    "total_image_sum = np.sum(poff_images + pon_images, axis=0)\n",
    "\n",
    "fig, ax = plt.subplots(1, 1, figsize=(10, 8))\n",
    "ax.imshow(np.log1p(total_image_sum))\n",
    "ax.set_title(\"Total Images Sum\")\n",
    "ax.set_yticks(np.arange(0, total_image_sum.shape[0], 50))\n",
    "ax.set_xticks(np.arange(0, total_image_sum.shape[1], 50));"
   ]
  },
  {
   "cell_type": "code",
   "execution_count": null,
   "metadata": {},
   "outputs": [],
   "source": [
    "roi_rect = RoiRectangle(350, 110, 420, 140)\n",
    "roi_image_sum = roi_rect.slice(total_image_sum)\n",
    "\n",
    "roi_pons = roi_rect.slice(pon_images)\n",
    "roi_poffs = roi_rect.slice(poff_images)\n",
    "\n",
    "fig, ax = plt.subplots(1, 3, figsize=(14, 6))\n",
    "fig.suptitle(f\"Image Sums in {roi_rect}\", fontsize=16)\n",
    "\n",
    "ax[0].imshow(np.log1p(roi_image_sum), cmap='viridis')\n",
    "ax[0].set_title(f\"Total Images Sum\")\n",
    "ax[0].set_yticks(np.arange(0, roi_rect.height, 10))\n",
    "ax[0].set_xticks(np.arange(0, roi_rect.width, 10))\n",
    "ax[0].set_ylabel('Y-axis')\n",
    "ax[0].set_xlabel('X-axis')\n",
    "\n",
    "ax[1].imshow(np.log1p(roi_poffs.sum(0)), cmap='viridis')\n",
    "ax[1].set_title(f\"Pump Off Images Sum\")\n",
    "ax[1].set_yticks(np.arange(0, roi_rect.height, 10))\n",
    "ax[1].set_xticks(np.arange(0, roi_rect.width, 10))\n",
    "ax[1].set_ylabel('Y-axis')\n",
    "ax[1].set_xlabel('X-axis')\n",
    "\n",
    "ax[2].imshow(np.log1p(roi_pons.sum(0)), cmap='viridis')\n",
    "ax[2].set_title(f\"Pump ON Images Sum\")\n",
    "ax[2].set_yticks(np.arange(0, roi_rect.height, 10))\n",
    "ax[2].set_xticks(np.arange(0, roi_rect.width, 10))\n",
    "ax[2].set_ylabel('Y-axis')\n",
    "ax[2].set_xlabel('X-axis')\n",
    "\n",
    "plt.tight_layout()\n",
    "\n",
    "print(\"roi poff mean\", roi_poffs.mean())\n",
    "print(\"roi poff max\", roi_poffs.max())\n",
    "print(\"roi pon mean\", roi_pons.mean())\n",
    "print(\"roi pon max\", roi_pons.max())"
   ]
  },
  {
   "cell_type": "code",
   "execution_count": null,
   "metadata": {},
   "outputs": [],
   "source": [
    "from skimage.measure import moments, moments_central, shannon_entropy\n",
    "from collections import defaultdict\n",
    "\n",
    "def get_principal_axis(image):\n",
    "    M = moments(image, order=2)\n",
    "    cx = M[1, 0] / M[0, 0]\n",
    "    cy = M[0, 1] / M[0, 0]\n",
    "\n",
    "    mu = moments_central(image, center=(cx, cy), order=2)\n",
    "\n",
    "    Ixx = mu[2, 0]\n",
    "    Iyy = mu[0, 2]\n",
    "    Ixy = -mu[1, 1]\n",
    "\n",
    "    tensor = np.array([[Ixx, Ixy], [Ixy, Iyy]])\n",
    "\n",
    "    eigenvalues, eigenvectors = np.linalg.eig(tensor)\n",
    "\n",
    "    principal_axis = eigenvectors[:, np.argmax(eigenvalues)]\n",
    "\n",
    "    return principal_axis\n",
    "\n",
    "\n",
    "def get_features(images) -> dict[str]:\n",
    "    features = defaultdict(list)\n",
    "    features[\"delay\"] = list(delays)\n",
    "\n",
    "    for image in images:\n",
    "\n",
    "        M = moments(image, order=4)\n",
    "        \n",
    "        cx = M[1, 0] / M[0, 0]\n",
    "        cy = M[0, 1] / M[0, 0]\n",
    "\n",
    "        mu = moments_central(image, center=(cx, cy), order=4)\n",
    "\n",
    "        sigma_x2 = mu[2, 0]\n",
    "        sigma_y2 = mu[0, 2]\n",
    "\n",
    "        sigma_x = np.sqrt(sigma_x2)\n",
    "        sigma_y = np.sqrt(sigma_y2)\n",
    "\n",
    "        gamma_1 = mu[3, 0] / (sigma_x**3)\n",
    "        gamma_2 = mu[0, 3] / (sigma_y**3)\n",
    "\n",
    "        beta_1 = mu[4, 0] / (sigma_x**4)\n",
    "        beta_2 = mu[0, 4] / (sigma_y**4)\n",
    "        \n",
    "        principal_axis = get_principal_axis(image)\n",
    "        orientation = np.arctan2(principal_axis[1], principal_axis[0])\n",
    "        eccentricity = np.sqrt(1 - (min(sigma_x2, sigma_y2) / max(sigma_x2, sigma_y2)))\n",
    "        aspect_ratio = max(sigma_x2, sigma_y2) / min(sigma_x2, sigma_y2)\n",
    "        entropy = shannon_entropy(image)\n",
    "        symmetry_y = np.sum(np.abs(image - np.flipud(image)))\n",
    "        symmetry_x = np.sum(np.abs(image - np.fliplr(image)))\n",
    "        azimuthal_profile = np.sum(image, axis=1)\n",
    "        ring_completeness = np.std(azimuthal_profile) / np.mean(azimuthal_profile)\n",
    "\n",
    "        features[\"intensity\"].append(M[0, 0])\n",
    "        features[\"centroid_x\"].append(cx)\n",
    "        features[\"centroid_y\"].append(cy)\n",
    "        features[\"spread_x\"].append(sigma_x2)\n",
    "        features[\"spread_y\"].append(sigma_y2)\n",
    "        features[\"skewness_x\"].append(gamma_1)\n",
    "        features[\"skewness_y\"].append(gamma_2)\n",
    "        features[\"kurtosis_x\"].append(beta_1)\n",
    "        features[\"kurtosis_y\"].append(beta_2)\n",
    "        features[\"principal_axis_x\"].append(principal_axis[0])\n",
    "        features[\"principal_axis_y\"].append(principal_axis[1])\n",
    "        features[\"orientation\"].append(orientation)\n",
    "        features[\"eccentricity\"].append(eccentricity)\n",
    "        features[\"aspect_ratio\"].append(aspect_ratio)\n",
    "        features[\"entropy\"].append(entropy)\n",
    "        features[\"symmetry_y\"].append(symmetry_y)\n",
    "        features[\"symmetry_x\"].append(symmetry_x)\n",
    "\n",
    "    return pd.DataFrame(features).set_index(\"delay\")\n",
    "\n",
    "poff_features = get_features(roi_poffs)\n",
    "pon_features = get_features(roi_pons)"
   ]
  },
  {
   "cell_type": "code",
   "execution_count": null,
   "metadata": {},
   "outputs": [],
   "source": [
    "# poff_features = poff_features.loc[poff_features.index < 50]\n",
    "# pon_features = pon_features.loc[pon_features.index < 50]"
   ]
  },
  {
   "cell_type": "code",
   "execution_count": null,
   "metadata": {},
   "outputs": [],
   "source": [
    "def plot_single_feature(poff_features: pd.DataFrame, pon_features: pd.DataFrame, key: str):\n",
    "    \n",
    "    title = key.title()\n",
    "    fig, ax = plt.subplots(2, 1, figsize=(8, 10))\n",
    "    fig.suptitle(f\"Delay vs {title}\", fontsize=16)\n",
    "\n",
    "    ax[0].plot(poff_features.index, poff_features[key], \"o-\", label=f\"Poff {title}\")\n",
    "    ax[0].plot(pon_features.index, pon_features[key], \"x--\", label=f\"Pon {title}\")\n",
    "    ax[1].plot(poff_features.index, poff_features[key] - pon_features[key], \"o-\", label=f\"Poff - Pon {title}\")\n",
    "\n",
    "    ax[0].set_xlabel(\"Delay\", fontsize=14)\n",
    "    ax[0].set_ylabel(title, fontsize=14)\n",
    "    ax[1].set_xlabel(\"Delay\", fontsize=14)\n",
    "    ax[1].set_ylabel(title, fontsize=14)\n",
    "\n",
    "    ax[0].legend(fontsize=12)\n",
    "    ax[0].grid(True, which='both', linestyle='--', linewidth=0.5)\n",
    "    ax[1].legend(fontsize=12)\n",
    "    ax[1].grid(True, which='both', linestyle='--', linewidth=0.5)\n",
    "\n",
    "    plt.tight_layout();\n",
    "\n",
    "def plot_xy_feature_comparison(poff_features: pd.DataFrame, pon_features: pd.DataFrame, key: str):\n",
    "    key_y = key + \"_y\"\n",
    "    key_x = key + \"_x\"\n",
    "    title = key.title()\n",
    "    fig, ax = plt.subplots(4, 1, figsize=(8, 14))\n",
    "\n",
    "    ax[0].plot(poff_features.index, poff_features[key_y], \"o-\", label=f\"Poff {title} Y\")\n",
    "    ax[0].plot(pon_features.index, pon_features[key_y], \"x--\", label=f\"Pon {title} Y\")\n",
    "    ax[1].plot(poff_features.index, poff_features[key_x], \"o-\", label=f\"Poff {title} X\")\n",
    "    ax[1].plot(pon_features.index, pon_features[key_x], \"x--\", label=f\"Pon {title} X\")\n",
    "    ax[2].plot(poff_features.index, poff_features[key_y] - pon_features[key_y], \".-\", label=f\"Poff - Pon {title} Y\")\n",
    "    ax[3].plot(poff_features.index, poff_features[key_x] - pon_features[key_x], \".-\", label=f\"Poff - Pon {title} X\")\n",
    "\n",
    "    fig.suptitle(f\"Delay vs {title}\", fontsize=16)\n",
    "    fig.text(0.5, 0.92, f\"Comparison of {title} Positions Between Poff and Pon\", ha='center', fontsize=14)\n",
    "    ax[0].set_title(f\"{title} Y\", fontsize=14)\n",
    "    ax[1].set_title(f\"{title} X\", fontsize=14)\n",
    "    ax[2].set_title(f\"{title} Y Diff\", fontsize=14)\n",
    "    ax[3].set_title(f\"{title} X Diff\", fontsize=14)\n",
    "\n",
    "    ax[0].set_ylabel(f\"{title} Y\", fontsize=14)\n",
    "    ax[1].set_ylabel(f\"{title} X\", fontsize=14)\n",
    "    ax[2].set_ylabel(f\"{title} Y\", fontsize=14)\n",
    "    ax[3].set_ylabel(f\"{title} X\", fontsize=14)\n",
    "    ax[3].set_xlabel(\"Delay\", fontsize=14)\n",
    "\n",
    "    ax[0].legend(fontsize=12)\n",
    "    ax[0].grid(True, which='both', linestyle='--', linewidth=0.5)\n",
    "    ax[1].legend(fontsize=12)\n",
    "    ax[1].grid(True, which='both', linestyle='--', linewidth=0.5)\n",
    "    ax[2].legend(fontsize=12)\n",
    "    ax[2].grid(True, which='both', linestyle='--', linewidth=0.5)\n",
    "    ax[3].legend(fontsize=12)\n",
    "    ax[3].grid(True, which='both', linestyle='--', linewidth=0.5)"
   ]
  },
  {
   "cell_type": "markdown",
   "metadata": {},
   "source": [
    "# Intensity\n",
    "\n",
    "sum of all pixels in gray scale image"
   ]
  },
  {
   "cell_type": "code",
   "execution_count": null,
   "metadata": {},
   "outputs": [],
   "source": [
    "plot_single_feature(poff_features, pon_features, \"intensity\")"
   ]
  },
  {
   "cell_type": "markdown",
   "metadata": {},
   "source": [
    "# Centroid"
   ]
  },
  {
   "cell_type": "code",
   "execution_count": null,
   "metadata": {},
   "outputs": [],
   "source": [
    "plot_xy_feature_comparison(poff_features, pon_features, \"centroid\")"
   ]
  },
  {
   "cell_type": "markdown",
   "metadata": {},
   "source": [
    "## Spread\n",
    "Spread, or dispersion, measures data variability.\n",
    "\n",
    "It shows how data points are scattered around a central value.\n",
    "\n",
    "Common measures include range, variance, and standard deviation.\n",
    "\n",
    "Higher values indicate greater variability.\n",
    "\n",
    "Understanding spread is crucial for data analysis and decision-making."
   ]
  },
  {
   "cell_type": "code",
   "execution_count": null,
   "metadata": {},
   "outputs": [],
   "source": [
    "plot_xy_feature_comparison(poff_features, pon_features, \"spread\")"
   ]
  },
  {
   "cell_type": "markdown",
   "metadata": {},
   "source": [
    "## Skewness\n",
    "Skewness is a measure of the asymmetry of a data distribution.\n",
    "\n",
    "It indicates symmetry when zero, right-skewed when positive, and left-skewed when negative.\n",
    "\n",
    "This is crucial for assessing normality of data and in statistical modeling."
   ]
  },
  {
   "cell_type": "code",
   "execution_count": null,
   "metadata": {},
   "outputs": [],
   "source": [
    "plot_xy_feature_comparison(poff_features, pon_features, \"skewness\")"
   ]
  },
  {
   "cell_type": "markdown",
   "metadata": {},
   "source": [
    "## Kurtosis\n",
    "Kurtosis measures the tailedness of a distribution, indicating the thickness of tails compared to a normal distribution.\n",
    "\n",
    "Positive kurtosis (leptokurtic) means heavier tails and more extreme values, while negative kurtosis (platykurtic) means thinner tails and fewer extreme values.\n",
    "\n",
    "It's crucial for understanding risk and volatility in data.\n",
    "\n",
    "Kurtosis_x and kurtosis_y measure the sharpness of the image distribution, with values around 3 resembling a normal curve,\n",
    "\n",
    "above 3 indicating a sharper peak, and below 3 suggesting a broader peak."
   ]
  },
  {
   "cell_type": "code",
   "execution_count": null,
   "metadata": {},
   "outputs": [],
   "source": [
    "plot_xy_feature_comparison(poff_features, pon_features, \"kurtosis\")"
   ]
  },
  {
   "cell_type": "code",
   "execution_count": null,
   "metadata": {},
   "outputs": [],
   "source": [
    "plot_xy_feature_comparison(poff_features, pon_features, \"principal_axis\")"
   ]
  },
  {
   "cell_type": "code",
   "execution_count": null,
   "metadata": {},
   "outputs": [],
   "source": [
    "plot_single_feature(poff_features, pon_features, \"orientation\")"
   ]
  },
  {
   "cell_type": "code",
   "execution_count": null,
   "metadata": {},
   "outputs": [],
   "source": [
    "plot_single_feature(poff_features, pon_features, \"eccentricity\")"
   ]
  },
  {
   "cell_type": "code",
   "execution_count": null,
   "metadata": {},
   "outputs": [],
   "source": [
    "plot_single_feature(poff_features, pon_features, \"aspect_ratio\")"
   ]
  },
  {
   "cell_type": "code",
   "execution_count": null,
   "metadata": {},
   "outputs": [],
   "source": [
    "plot_single_feature(poff_features, pon_features, \"entropy\")"
   ]
  },
  {
   "cell_type": "code",
   "execution_count": null,
   "metadata": {},
   "outputs": [],
   "source": [
    "plot_xy_feature_comparison(poff_features, pon_features, \"symmetry\")"
   ]
  }
 ],
 "metadata": {
  "kernelspec": {
   "display_name": "xfel",
   "language": "python",
   "name": "python3"
  },
  "language_info": {
   "codemirror_mode": {
    "name": "ipython",
    "version": 3
   },
   "file_extension": ".py",
   "mimetype": "text/x-python",
   "name": "python",
   "nbconvert_exporter": "python",
   "pygments_lexer": "ipython3",
   "version": "3.9.19"
  }
 },
 "nbformat": 4,
 "nbformat_minor": 2
}