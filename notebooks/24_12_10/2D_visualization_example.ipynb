{
 "cells": [
  {
   "cell_type": "code",
   "execution_count": 1,
   "id": "649092e9",
   "metadata": {},
   "outputs": [],
   "source": [
    "import numpy as np\n",
    "import matplotlib.pyplot as plt\n",
    "import pandas as pd\n",
    "import os\n",
    "import tables as tb\n",
    "from matplotlib.ticker import MultipleLocator, AutoMinorLocator\n",
    "from tqdm.notebook import tqdm, trange"
   ]
  },
  {
   "cell_type": "code",
   "execution_count": 2,
   "id": "7a13c5a2",
   "metadata": {},
   "outputs": [],
   "source": [
    "from lmfit import Model, create_params\n",
    "from lmfit.models import GaussianModel\n",
    "\n",
    "mod = GaussianModel()"
   ]
  },
  {
   "cell_type": "code",
   "execution_count": 3,
   "id": "4c317998",
   "metadata": {},
   "outputs": [],
   "source": [
    "from scipy.special import erf\n",
    "\n",
    "\n",
    "def damp_osci(x, x0, oa, rg, ro, phase, sigma, w):\n",
    "    damp = oa * np.exp(-(x - x0) / rg) * np.cos((x - x0) / ro - phase)\n",
    "    err_func = -0.5 * (erf(-1 / np.sqrt(2) * (x - x0) / sigma - sigma / w)) + 0.5\n",
    "    return damp * err_func\n",
    "\n",
    "\n",
    "def exp_decay(x, Amplitude, x0, sigma, w, oa, rg, ro, phase):\n",
    "    fit1 = (\n",
    "        Amplitude\n",
    "        / 2\n",
    "        * np.exp(-(x - x0) / w + ((sigma / w) ** 2) / 2)\n",
    "        * (1 - erf(-1 / np.sqrt(2) * (x - x0) / sigma - sigma / w))\n",
    "    )\n",
    "    osc = damp_osci(x, x0, oa, rg, ro, phase, sigma, w)\n",
    "    return fit1 + osc\n",
    "\n",
    "\n",
    "def gaussian(x, Amplitude, x0, sigma):\n",
    "    return Amplitude * np.exp(-np.power(x - x0, 2.0) / (2 * np.power(sigma, 2.0)))\n",
    "\n",
    "\n",
    "gmodel = Model(exp_decay)"
   ]
  },
  {
   "cell_type": "code",
   "execution_count": 4,
   "id": "e9da301e",
   "metadata": {},
   "outputs": [
    {
     "name": "stdout",
     "output_type": "stream",
     "text": [
      "parameter names: ['Amplitude', 'x0', 'sigma', 'w', 'oa', 'rg', 'ro', 'phase']\n",
      "independent variables: ['x']\n"
     ]
    }
   ],
   "source": [
    "print(f\"parameter names: {gmodel.param_names}\")\n",
    "print(f\"independent variables: {gmodel.independent_vars}\")"
   ]
  },
  {
   "cell_type": "code",
   "execution_count": 5,
   "id": "ba0e2f38",
   "metadata": {},
   "outputs": [
    {
     "data": {
      "text/html": [
       "<table class=\"jp-toc-ignore\"><caption>Parameters</caption><tr><th style='text-align:left'>name</th><th style='text-align:left'>value</th><th style='text-align:left'>initial value</th><th style='text-align:left'>min</th><th style='text-align:left'>max</th><th style='text-align:right'>vary</th></tr><tr><td style='text-align:left'>Amplitude</td><td style='text-align:left'> 0.06000000</td><td style='text-align:left'>0.06</td><td style='text-align:left'>       -inf</td><td style='text-align:left'>        inf</td><td style='text-align:right'>True</td></tr><tr><td style='text-align:left'>x0</td><td style='text-align:left'> 0.00000000</td><td style='text-align:left'>0.0</td><td style='text-align:left'>       -inf</td><td style='text-align:left'>        inf</td><td style='text-align:right'>True</td></tr><tr><td style='text-align:left'>sigma</td><td style='text-align:left'> 0.10000000</td><td style='text-align:left'>0.1</td><td style='text-align:left'>       -inf</td><td style='text-align:left'>        inf</td><td style='text-align:right'>True</td></tr><tr><td style='text-align:left'>w</td><td style='text-align:left'> 0.10000000</td><td style='text-align:left'>0.1</td><td style='text-align:left'>       -inf</td><td style='text-align:left'>        inf</td><td style='text-align:right'>True</td></tr><tr><td style='text-align:left'>oa</td><td style='text-align:left'> 0.00000000</td><td style='text-align:left'>0</td><td style='text-align:left'>       -inf</td><td style='text-align:left'>        inf</td><td style='text-align:right'>False</td></tr><tr><td style='text-align:left'>rg</td><td style='text-align:left'> 10.0000000</td><td style='text-align:left'>10</td><td style='text-align:left'>       -inf</td><td style='text-align:left'>        inf</td><td style='text-align:right'>False</td></tr><tr><td style='text-align:left'>ro</td><td style='text-align:left'> 10.0000000</td><td style='text-align:left'>10</td><td style='text-align:left'>       -inf</td><td style='text-align:left'>        inf</td><td style='text-align:right'>False</td></tr><tr><td style='text-align:left'>phase</td><td style='text-align:left'> 0.00000000</td><td style='text-align:left'>0</td><td style='text-align:left'>       -inf</td><td style='text-align:left'>        inf</td><td style='text-align:right'>False</td></tr></table>"
      ],
      "text/plain": [
       "Parameters([('Amplitude', <Parameter 'Amplitude', value=0.06, bounds=[-inf:inf]>), ('x0', <Parameter 'x0', value=0.0, bounds=[-inf:inf]>), ('sigma', <Parameter 'sigma', value=0.1, bounds=[-inf:inf]>), ('w', <Parameter 'w', value=0.1, bounds=[-inf:inf]>), ('oa', <Parameter 'oa', value=0 (fixed), bounds=[-inf:inf]>), ('rg', <Parameter 'rg', value=10 (fixed), bounds=[-inf:inf]>), ('ro', <Parameter 'ro', value=10 (fixed), bounds=[-inf:inf]>), ('phase', <Parameter 'phase', value=0 (fixed), bounds=[-inf:inf]>)])"
      ]
     },
     "execution_count": 5,
     "metadata": {},
     "output_type": "execute_result"
    }
   ],
   "source": [
    "params = gmodel.make_params(\n",
    "    Amplitude=dict(value=0.06),\n",
    "    x0=dict(value=0.0),\n",
    "    sigma=dict(value=0.1),\n",
    "    w=dict(value=0.1),\n",
    "    oa=dict(value=0, vary=False),\n",
    "    rg=dict(value=10, vary=False),\n",
    "    ro=dict(value=10, vary=False),\n",
    "    phase=dict(value=0, vary=False),\n",
    ")\n",
    "params"
   ]
  },
  {
   "cell_type": "code",
   "execution_count": 6,
   "id": "b3993294",
   "metadata": {},
   "outputs": [],
   "source": [
    "dataset_for_intensity = {}\n",
    "dataset_for_peak_shift = {}"
   ]
  },
  {
   "cell_type": "code",
   "execution_count": 7,
   "id": "3566c9af",
   "metadata": {},
   "outputs": [],
   "source": [
    "time_drifts = {}"
   ]
  },
  {
   "cell_type": "code",
   "execution_count": null,
   "id": "1e73bf01",
   "metadata": {},
   "outputs": [],
   "source": [
    "%matplotlib inline"
   ]
  },
  {
   "cell_type": "code",
   "execution_count": 8,
   "id": "1110f11c",
   "metadata": {},
   "outputs": [],
   "source": [
    "plt.close(\"all\")"
   ]
  },
  {
   "cell_type": "code",
   "execution_count": null,
   "id": "7712443f-87ee-4b78-9df0-54ce96827538",
   "metadata": {},
   "outputs": [],
   "source": [
    "# ./scan.py delay th --delay -4 10 1 --delay 10 31 2 --th 27.415 25.815 80 --add-slow tth --tth 52.875 52.875 80"
   ]
  },
  {
   "cell_type": "markdown",
   "id": "ce2bad63",
   "metadata": {},
   "source": [
    "# Jungfrau ROI1 signal"
   ]
  },
  {
   "cell_type": "code",
   "execution_count": 9,
   "id": "480fa92d",
   "metadata": {},
   "outputs": [
    {
     "ename": "FileNotFoundError",
     "evalue": "[WinError 3] 지정된 경로를 찾을 수 없습니다: '/xfel/ffs/dat/ue_240531_FXS/raw_data/h5/type=measurement/run=020'",
     "output_type": "error",
     "traceback": [
      "\u001b[1;31m---------------------------------------------------------------------------\u001b[0m",
      "\u001b[1;31mFileNotFoundError\u001b[0m                         Traceback (most recent call last)",
      "Cell \u001b[1;32mIn[9], line 3\u001b[0m\n\u001b[0;32m      1\u001b[0m run_n \u001b[38;5;241m=\u001b[39m \u001b[38;5;241m20\u001b[39m\n\u001b[0;32m      2\u001b[0m run_dir \u001b[38;5;241m=\u001b[39m \u001b[38;5;124mf\u001b[39m\u001b[38;5;124m'\u001b[39m\u001b[38;5;124m/xfel/ffs/dat/ue_240531_FXS/raw_data/h5/type=measurement/run=\u001b[39m\u001b[38;5;132;01m{\u001b[39;00mrun_n\u001b[38;5;132;01m:\u001b[39;00m\u001b[38;5;124m03\u001b[39m\u001b[38;5;132;01m}\u001b[39;00m\u001b[38;5;124m'\u001b[39m\n\u001b[1;32m----> 3\u001b[0m scan_dirs \u001b[38;5;241m=\u001b[39m [scan_dir \u001b[38;5;28;01mfor\u001b[39;00m scan_dir \u001b[38;5;129;01min\u001b[39;00m \u001b[38;5;28msorted\u001b[39m(\u001b[43mos\u001b[49m\u001b[38;5;241;43m.\u001b[39;49m\u001b[43mlistdir\u001b[49m\u001b[43m(\u001b[49m\u001b[43mrun_dir\u001b[49m\u001b[43m)\u001b[49m) \u001b[38;5;28;01mif\u001b[39;00m scan_dir\u001b[38;5;241m.\u001b[39mstartswith(\u001b[38;5;124m'\u001b[39m\u001b[38;5;124mscan=\u001b[39m\u001b[38;5;124m'\u001b[39m)]\n\u001b[0;32m      4\u001b[0m scan_numbers \u001b[38;5;241m=\u001b[39m [\u001b[38;5;28mint\u001b[39m(scan_dir\u001b[38;5;241m.\u001b[39mreplace(\u001b[38;5;124m'\u001b[39m\u001b[38;5;124mscan=\u001b[39m\u001b[38;5;124m'\u001b[39m, \u001b[38;5;124m'\u001b[39m\u001b[38;5;124m'\u001b[39m)) \u001b[38;5;28;01mfor\u001b[39;00m scan_dir \u001b[38;5;129;01min\u001b[39;00m scan_dirs]\n\u001b[0;32m      6\u001b[0m \u001b[38;5;28;01mfor\u001b[39;00m scan_dir \u001b[38;5;129;01min\u001b[39;00m tqdm(scan_dirs):\n",
      "\u001b[1;31mFileNotFoundError\u001b[0m: [WinError 3] 지정된 경로를 찾을 수 없습니다: '/xfel/ffs/dat/ue_240531_FXS/raw_data/h5/type=measurement/run=020'"
     ]
    }
   ],
   "source": [
    "run_n = 1\n",
    "run_dir = f\"/xfel/ffs/dat/ue_240531_FXS/raw_data/h5/type=measurement/run={run_n:03}\"\n",
    "scan_dirs = [\n",
    "    scan_dir for scan_dir in sorted(os.listdir(run_dir)) if scan_dir.startswith(\"scan=\")\n",
    "]\n",
    "scan_numbers = [int(scan_dir.replace(\"scan=\", \"\")) for scan_dir in scan_dirs]\n",
    "\n",
    "for scan_dir in tqdm(scan_dirs):\n",
    "    scan_n = int(scan_dir.replace(\"scan=\", \"\"))\n",
    "    fnames = [\n",
    "        os.path.join(run_dir, scan_dir, fname)\n",
    "        for fname in sorted(os.listdir(os.path.join(run_dir, scan_dir)))\n",
    "    ]\n",
    "\n",
    "    labels = dict(\n",
    "        position_label=\"\",\n",
    "        pump_event_label=\"event_info.RATE_HX_30HZ\",\n",
    "        # signal_label = 'pd:es:pd1:ch2',\n",
    "        signal_label=\"detector:eh1:jungfrau2:ROI1_stat.sum\",\n",
    "        # norm_label = 'pd:es:pd1:ch\n",
    "        # norm_label = 'qbpm:oh:qbpm2:sum',\n",
    "        norm_label=\"qbpm:eh1:qbpm1:sum\",\n",
    "        # orm2_label = 'detector:eh1:jungfrau2:ROI7_stat.sum',\n",
    "        # newsignal_label = 'detector:eh1:jungfrau2:ROI1_stat.sum'\n",
    "    )\n",
    "    positions = []\n",
    "    signals_on = []\n",
    "    signals_off = []\n",
    "    ps_on = []\n",
    "    ps_off = []\n",
    "\n",
    "    for fname in tqdm(fnames[:], leave=True):\n",
    "        df = pd.read_hdf(fname)\n",
    "        position_labels = [el for el in df.columns.values if el.endswith(\"_input\")]\n",
    "        for i, pl in enumerate(position_labels):\n",
    "            labels[f\"position_label_{i}\"] = pl\n",
    "\n",
    "        df_mini = df[labels.values()].dropna()\n",
    "        position = [\n",
    "            df_mini[labels[pl]].median()\n",
    "            for pl in [el for el in labels.keys() if el.startswith(\"position_label\")]\n",
    "        ]\n",
    "        pump_event = df_mini[labels[\"pump_event_label\"]] == True\n",
    "\n",
    "        # bkg_mean = (df_mini[labels['bkg_label']] - df_mini[labels['signal_label']]) / (df_mini[labels['roi2_area_label']] - df_mini[labels['roi1_area_label']])\n",
    "        roi_sum = (\n",
    "            df_mini[\n",
    "                [\n",
    "                    labels[\"signal_label\"],\n",
    "                ]\n",
    "            ].values\n",
    "        ).sum(axis=1)\n",
    "\n",
    "        norm = df_mini[\n",
    "            labels[\"norm_label\"]\n",
    "        ]  # - bkg_mean*df_mini[labels['roi3_area_label']]\n",
    "\n",
    "        norm_mask = np.logical_and(\n",
    "            norm > norm.mean() - norm.std() * 2,\n",
    "            norm < norm.mean() + norm.std() * 2,\n",
    "        )\n",
    "        norm_on = norm[norm_mask][pump_event[norm_mask]]\n",
    "        norm_off = norm[norm_mask][pump_event[norm_mask] != True]\n",
    "\n",
    "        signal_on = roi_sum[norm_mask][\n",
    "            pump_event[norm_mask]\n",
    "        ]  # - bkg_mean[pump_event] * df_mini[labels['roi1_area_label']][pump_event]\n",
    "        signal_off = roi_sum[norm_mask][\n",
    "            pump_event[norm_mask] != True\n",
    "        ]  # - bkg_mean[pump_event != True] * df_mini[labels['roi1_area_label']][pump_event !=True]\n",
    "\n",
    "        signal_ratio_on = signal_on / norm_on\n",
    "        signal_ratio_off = signal_off / norm_off\n",
    "\n",
    "        \"\"\"\n",
    "        valid_on = np.logical_and(\n",
    "            signal_ratio_on<signal_ratio_on.median() + signal_ratio_on.std()*.3, \n",
    "            signal_ratio_on>signal_ratio_on.median() - signal_ratio_on.std()*.3\n",
    "            )\n",
    "        valid_off = np.logical_and(\n",
    "            signal_ratio_off<signal_ratio_off.median() + signal_ratio_off.std()*.3, \n",
    "            signal_ratio_off>signal_ratio_off.median() - signal_ratio_off.std()*.3\n",
    "            )\n",
    "        \"\"\"\n",
    "        valid_on = np.ones(signal_ratio_on.shape, dtype=bool)\n",
    "        valid_off = (\n",
    "            np.ones(signal_ratio_off.shape, dtype=bool)\n",
    "            > signal_ratio_off.median() - signal_ratio_off.std() * 0.3\n",
    "        )\n",
    "\n",
    "        p_on = np.polyfit(norm_off, signal_off, 1)\n",
    "        p_off = np.polyfit(norm_on, signal_on, 1)\n",
    "\n",
    "        \"\"\"\n",
    "        signal_norm_on = 1/p_on[0]\n",
    "        signal_norm_off = 1/p_off[0]\n",
    "        \"\"\"\n",
    "        \"\"\"\n",
    "        signal_norm_on = np.average(\n",
    "            signal_on / norm_on,\n",
    "            weights = norm_on\n",
    "            )\n",
    "        signal_norm_off = np.average(\n",
    "            signal_off / norm_off,\n",
    "            weights = norm_off\n",
    "            )\n",
    "        \"\"\"\n",
    "        signal_norm_on = np.average(\n",
    "            signal_on[valid_on] / norm_on[valid_on], weights=norm_on[valid_on]\n",
    "        )\n",
    "        signal_norm_off = np.average(\n",
    "            signal_off[valid_off] / norm_off[valid_off], weights=norm_off[valid_off]\n",
    "        )\n",
    "\n",
    "        \"\"\"\n",
    "        p = np.polyfit(norm, roi_sum, 2)\n",
    "        params['a_on'].value = p[0]\n",
    "        params['a_off'].value = p[0]\n",
    "        params['b'].value = p[1]\n",
    "        \n",
    "        out = minimize(residual, params, args=(norm_on, signal_on, norm_off, signal_off))\n",
    "\n",
    "        signal_norm_on = out.params['a_on'].value\n",
    "        signal_norm_off = out.params['a_off'].value\n",
    "        \"\"\"\n",
    "\n",
    "        positions.append(position)\n",
    "        signals_on.append(signal_norm_on)\n",
    "        signals_off.append(signal_norm_off)\n",
    "        ps_on.append(p_on)\n",
    "        ps_off.append(p_off)\n",
    "\n",
    "    positions = np.array(positions)\n",
    "    signals_on = np.array(signals_on)\n",
    "    signals_off = np.array(signals_off)\n",
    "    signals_diff = signals_on - signals_off  # /signals_off\n",
    "\n",
    "    ps_on = np.array(ps_on)\n",
    "    ps_off = np.array(ps_off)\n",
    "\n",
    "    dataset_for_intensity[(run_n, scan_n)] = {\n",
    "        \"labels\": labels,\n",
    "        \"positions\": positions,\n",
    "        \"signals_on\": signals_on,\n",
    "        \"signals_off\": signals_off,\n",
    "        \"signals_diff\": signals_diff,\n",
    "        \"ps_on\": ps_on,\n",
    "        \"ps_off\": ps_off,\n",
    "    }\n",
    "\n",
    "plt.close(\"all\")"
   ]
  },
  {
   "cell_type": "code",
   "execution_count": null,
   "id": "0a9791b1-3de3-48a0-88c1-beec4a9a4039",
   "metadata": {},
   "outputs": [],
   "source": [
    "position_labels"
   ]
  },
  {
   "cell_type": "code",
   "execution_count": null,
   "id": "2eec89b4-2796-4c97-8b8e-48cd4405cbdf",
   "metadata": {},
   "outputs": [],
   "source": [
    "x_axis_label = \"delay_input\"\n",
    "y_axis_label = \"th_input\""
   ]
  },
  {
   "cell_type": "code",
   "execution_count": null,
   "id": "624efdde-b86d-42f3-ab82-0929afc745ae",
   "metadata": {},
   "outputs": [],
   "source": [
    "x_axis_idx"
   ]
  },
  {
   "cell_type": "code",
   "execution_count": null,
   "id": "4074a457-5875-4472-bb6b-c2d342ea57dd",
   "metadata": {},
   "outputs": [],
   "source": [
    "x_axis_idx = position_labels.index(x_axis_label)\n",
    "y_axis_idx = position_labels.index(y_axis_label)"
   ]
  },
  {
   "cell_type": "code",
   "execution_count": null,
   "id": "3880a4fc-00b8-4098-ad6f-3839104026df",
   "metadata": {},
   "outputs": [],
   "source": [
    "plt.figure()\n",
    "plt.imshow(\n",
    "    signals_on.reshape(\n",
    "        np.unique(positions[:, y_axis_idx]).size,\n",
    "        np.unique(positions[:, x_axis_idx]).size,\n",
    "    ),\n",
    "    interpolation=\"gaussian\",\n",
    "    aspect=\"auto\",\n",
    "    extent=[\n",
    "        np.unique(positions[:, x_axis_idx])[0],\n",
    "        np.unique(positions[:, x_axis_idx])[-1],\n",
    "        np.unique(positions[:, y_axis_idx])[-1],\n",
    "        np.unique(positions[:, y_axis_idx])[0],\n",
    "    ],\n",
    ")\n",
    "plt.xlabel(x_axis_label)\n",
    "plt.ylabel(y_axis_label)\n",
    "plt.show()"
   ]
  },
  {
   "cell_type": "code",
   "execution_count": null,
   "id": "50492515-7ad9-42a4-989e-368e1a63f617",
   "metadata": {},
   "outputs": [],
   "source": [
    "plt.figure()\n",
    "plt.imshow(\n",
    "    signals_off.reshape(\n",
    "        np.unique(positions[:, y_axis_idx]).size,\n",
    "        np.unique(positions[:, x_axis_idx]).size,\n",
    "    ),\n",
    "    interpolation=\"gaussian\",\n",
    "    aspect=\"auto\",\n",
    "    extent=[\n",
    "        np.unique(positions[:, x_axis_idx])[0],\n",
    "        np.unique(positions[:, x_axis_idx])[-1],\n",
    "        np.unique(positions[:, y_axis_idx])[-1],\n",
    "        np.unique(positions[:, y_axis_idx])[0],\n",
    "    ],\n",
    ")\n",
    "plt.xlabel(x_axis_label)\n",
    "plt.ylabel(y_axis_label)\n",
    "plt.show()"
   ]
  },
  {
   "cell_type": "code",
   "execution_count": null,
   "id": "d29afc58-21e5-467d-a627-90640d84f029",
   "metadata": {},
   "outputs": [],
   "source": [
    "plt.figure()\n",
    "plt.imshow(\n",
    "    signals_diff.reshape(\n",
    "        np.unique(positions[:, y_axis_idx]).size,\n",
    "        np.unique(positions[:, x_axis_idx]).size,\n",
    "    ),\n",
    "    interpolation=\"gaussian\",\n",
    "    aspect=\"auto\",\n",
    "    extent=[\n",
    "        np.unique(positions[:, x_axis_idx])[0],\n",
    "        np.unique(positions[:, x_axis_idx])[-1],\n",
    "        np.unique(positions[:, y_axis_idx])[-1],\n",
    "        np.unique(positions[:, y_axis_idx])[0],\n",
    "    ],\n",
    ")\n",
    "plt.xlabel(x_axis_label)\n",
    "plt.ylabel(y_axis_label)\n",
    "plt.colorbar()\n",
    "plt.show()"
   ]
  },
  {
   "cell_type": "code",
   "execution_count": null,
   "id": "fce88b3d-0569-44a0-85ad-3fb034b688bd",
   "metadata": {},
   "outputs": [],
   "source": []
  }
 ],
 "metadata": {
  "kernelspec": {
   "display_name": "Python 3 (ipykernel)",
   "language": "python",
   "name": "python3"
  },
  "language_info": {
   "codemirror_mode": {
    "name": "ipython",
    "version": 3
   },
   "file_extension": ".py",
   "mimetype": "text/x-python",
   "name": "python",
   "nbconvert_exporter": "python",
   "pygments_lexer": "ipython3",
   "version": "3.9.19"
  }
 },
 "nbformat": 4,
 "nbformat_minor": 5
}
