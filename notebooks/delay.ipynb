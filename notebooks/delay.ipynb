{
 "cells": [
  {
   "cell_type": "code",
   "execution_count": 1,
   "metadata": {},
   "outputs": [],
   "source": [
    "import sys\n",
    "import os\n",
    "\n",
    "package_path = '..'\n",
    "if package_path not in sys.path:\n",
    "    sys.path.append(package_path)"
   ]
  },
  {
   "cell_type": "code",
   "execution_count": 2,
   "metadata": {},
   "outputs": [],
   "source": [
    "%load_ext autoreload\n",
    "%autoreload 2"
   ]
  },
  {
   "cell_type": "markdown",
   "metadata": {},
   "source": [
    "# Main NoteBook"
   ]
  },
  {
   "cell_type": "code",
   "execution_count": 3,
   "metadata": {},
   "outputs": [
    {
     "data": {
      "text/plain": [
       "ExpConfig(runs=[43], param=ExpParams(hutch=<Hutch.EH1: 'eh1'>, detector=<Detector.JUNGFRAU2: 'jungfrau2'>, xray=<Xray.HARD: 'HX'>, pump_setting=<Hertz.THIRTY: '30HZ'>, x1=0, x2=1, y1=2, y2=3, sdd=1.3, dps=7.5e-05, beam_energy=9.7, sigma_factor=1, wavelength=1.2781876127134046), path=ExpPaths(load_dir='Y:\\\\240608_FXS\\\\raw_data\\\\h5\\\\type=raw', anaylsis_dir='Y:\\\\240608_FXS\\\\raw_data\\\\h5\\\\type=raw', param_dir='Y:\\\\240608_FXS\\\\raw_data\\\\h5\\\\type=raw\\\\DataParameter', image_dir='Y:\\\\240608_FXS\\\\raw_data\\\\h5\\\\type=raw\\\\Image', mat_dir='Y:\\\\240608_FXS\\\\raw_data\\\\h5\\\\type=raw\\\\Mat_files2', npz_dir='Y:\\\\240608_FXS\\\\raw_data\\\\h5\\\\type=raw\\\\Npz_files', tif_dir='Y:\\\\240608_FXS\\\\raw_data\\\\h5\\\\type=raw\\\\Tif_files'))"
      ]
     },
     "execution_count": 3,
     "metadata": {},
     "output_type": "execute_result"
    }
   ],
   "source": [
    "from src.analyzer.core import DataAnalyzer\n",
    "from src.config.config import load_config\n",
    "from src.utils.file_util import get_run_scan_directory\n",
    "config = load_config()\n",
    "config"
   ]
  },
  {
   "cell_type": "code",
   "execution_count": 4,
   "metadata": {},
   "outputs": [],
   "source": [
    "import matplotlib.pyplot as plt\n",
    "import pandas as pd\n",
    "import numpy as np"
   ]
  },
  {
   "cell_type": "code",
   "execution_count": 73,
   "metadata": {},
   "outputs": [],
   "source": [
    "power_run = {\n",
    "    1: 37,\n",
    "    # 2: 38,\n",
    "    3: 39,\n",
    "    4: 40,\n",
    "    # 5: 41,\n",
    "    6: 42,\n",
    "    # 7: 43,\n",
    "    # 8: 44,\n",
    "    9: 45,\n",
    "    # 10: 46,\n",
    "    15: 47,\n",
    "    # 20: 48\n",
    "}"
   ]
  },
  {
   "cell_type": "code",
   "execution_count": 21,
   "metadata": {},
   "outputs": [],
   "source": [
    "power_run = {\n",
    "    1: 37,\n",
    "    2: 38,\n",
    "    3: 39,\n",
    "    4: 40,\n",
    "    5: 41,\n",
    "    6: 42,\n",
    "    7: 43,\n",
    "    8: 44,\n",
    "    9: 45,\n",
    "    10: 46,\n",
    "    15: 47,\n",
    "    20: 48\n",
    "}"
   ]
  },
  {
   "cell_type": "code",
   "execution_count": 22,
   "metadata": {},
   "outputs": [],
   "source": [
    "power_run_2 = {\n",
    "    6: 92,\n",
    "    8: 91,\n",
    "    10: 90,\n",
    "    11: 89,\n",
    "    12: 88,\n",
    "    13: 87,\n",
    "    14: 86,\n",
    "    15: 85, # 79, 85\n",
    "    16: 80,\n",
    "    17: 81,\n",
    "    18: 82,\n",
    "    19: 83,\n",
    "    20: 84\n",
    "}"
   ]
  },
  {
   "cell_type": "code",
   "execution_count": 74,
   "metadata": {},
   "outputs": [],
   "source": [
    "power_com_x = {}\n",
    "power_com_y = {}\n",
    "power_intensity = {}\n",
    "image_dir: str = config.path.image_dir\n",
    "for power, run_num in power_run.items():\n",
    "    data_file = os.path.join(get_run_scan_directory(image_dir, run_num, 1), \"roi_small\", \"data.csv\")\n",
    "    data_df = pd.read_csv(data_file)\n",
    "    power_com_x[power] = data_df[\"poff_com_x\"].values - data_df[\"pon_com_x\"].values\n",
    "    power_com_y[power] = data_df[\"poff_com_y\"].values - data_df[\"pon_com_y\"].values\n",
    "    power_intensity[power] = data_df[\"poff_intensity\"].values - data_df[\"pon_intensity\"].values\n",
    "\n",
    "delays = data_df.index.values"
   ]
  },
  {
   "cell_type": "code",
   "execution_count": 10,
   "metadata": {},

   "source": [
    "import matplotlib.pyplot as plt\n",
    "import seaborn as sns\n",
    "\n",
    "# 글꼴 및 텍스트 설정\n",
    "plt.rcParams['font.size'] = 12\n",
    "plt.rcParams['font.family'] = 'serif'\n",
    "\n",
    "fig, ax = plt.subplots(2, 1, figsize=(8, 10))\n",
    "\n",
    "for power, com_x, com_y in zip(power_run, power_com_x.values(), power_com_y.values()):\n",
    "    ax[0].plot(delays, com_x, \".-\", label=f'{power}%')\n",
    "    ax[1].plot(delays, com_y, \".-\", label=f'{power}%')\n",
    "\n",
    "    ax[0].text(delays[-1] + 1, com_x[-1], f'{power}%', va='center', ha='left')\n",
    "    ax[1].text(delays[-1] + 1, com_y[-1], f'{power}%', va='center', ha='left')\n",
    "\n",
    "fig.suptitle(f\"Different Powers in {list(power_run)}\", fontsize=14)\n",
    "\n",
    "ax[0].set_title('COM x over Delays for Different Powers', fontsize=12)\n",
    "ax[1].set_title('COM y over Delays for Different Powers', fontsize=12)\n",
    "\n",
    "ax[0].set_ylabel('COM x', fontsize=12)\n",
    "ax[1].set_ylabel('COM y', fontsize=12)\n",
    "\n",
    "ax[0].set_xlim(-5, 65)\n",
    "ax[1].set_xlim(-5, 65)\n",
    "ax[0].set_ylim(-0.0025, 0.0005)\n",
    "ax[1].set_ylim(-0.00025, 0.0015)\n",
    "\n",
    "ax[1].set_xlabel('Delays', fontsize=12)\n",
    "\n",
    "ax[0].legend(fontsize=10, loc='best')\n",
    "ax[1].legend(fontsize=10, loc='best')\n",
    "\n",
    "ax[0].grid(True, linestyle='--', alpha=0.5)\n",
    "ax[1].grid(True, linestyle='--', alpha=0.5)\n",
    "\n",
    "ax[0].tick_params(axis='both', which='major', labelsize=10)\n",
    "ax[1].tick_params(axis='both', which='major', labelsize=10)\n",
    "\n",
    "plt.tight_layout();"
   ]
  },
  {
   "cell_type": "markdown",
   "metadata": {},
   "source": [
    "# Delay at 30 ps"
   ]
  },
  {
   "cell_type": "code",
   "execution_count": 75,
   "metadata": {},

   "source": [
    "power_com_x_30 = {}\n",
    "power_com_y_30 = {}\n",
    "\n",
    "for power, run_num in power_run.items():\n",
    "    data_file = os.path.join(get_run_scan_directory(image_dir, run_num, 1), \"roi_small\", \"data.csv\")\n",
    "    data_df = pd.read_csv(data_file)\n",
    "    power_com_x_30[power] = data_df.loc[30][\"pon_com_x\"]\n",
    "    power_com_y_30[power] = data_df.loc[30][\"pon_com_y\"]\n",
    "\n",
    "plt.plot(power_com_x_30.keys(), power_com_x_30.values(), \".-\")\n",
    "plt.plot(power_com_y_30.keys(), power_com_y_30.values(), \".-\")\n",
    "\n",
    "plt.xlabel(\"Power [%]\");"
   ]
  },
  {
   "cell_type": "code",
   "execution_count": 12,
   "metadata": {},

   "source": [
    "power_com_x_40 = {}\n",
    "power_com_y_40 = {}\n",
    "\n",
    "for power, run_num in power_run.items():\n",
    "    data_file = os.path.join(get_run_scan_directory(image_dir, run_num, 1), \"roi_small\", \"data.csv\")\n",
    "    data_df = pd.read_csv(data_file)\n",
    "    power_com_x_40[power] = data_df.loc[40][\"pon_com_x\"]\n",
    "    power_com_y_40[power] = data_df.loc[40][\"pon_com_y\"]\n",
    "\n",
    "plt.plot(power_com_x_40.keys(), power_com_x_40.values(), \".-\")\n",
    "plt.plot(power_com_y_40.keys(), power_com_y_40.values(), \".-\")\n",
    "\n",
    "plt.xlabel(\"Power [%]\");"
   ]
  },
  {
   "cell_type": "code",
   "execution_count": 13,
   "metadata": {},

   "source": [
    "power_com_x_50 = {}\n",
    "power_com_y_50 = {}\n",
    "\n",
    "for power, run_num in power_run.items():\n",
    "    data_file = os.path.join(get_run_scan_directory(image_dir, run_num, 1), \"roi_small\", \"data.csv\")\n",
    "    data_df = pd.read_csv(data_file)\n",
    "    power_com_x_50[power] = data_df.loc[50][\"pon_com_x\"]\n",
    "    power_com_y_50[power] = data_df.loc[50][\"pon_com_y\"]\n",
    "\n",
    "plt.plot(power_com_x_50.keys(), power_com_x_50.values(), \".-\")\n",
    "plt.plot(power_com_y_50.keys(), power_com_y_50.values(), \".-\")\n",
    "\n",
    "plt.xlabel(\"Power [%]\");"
   ]
  },
  {
   "cell_type": "code",
   "execution_count": 97,
   "metadata": {},

   "source": [
    "fig, ax = plt.subplots(1, 1, figsize=(8, 10))\n",
    "\n",
    "power_com_x = {}\n",
    "delay_list = delays[::]\n",
    "for delay in delay_list:\n",
    "    power_com_x[delay] = {}\n",
    "\n",
    "    for power, run_num in power_run.items():\n",
    "        data_file = os.path.join(get_run_scan_directory(image_dir, run_num, 1), \"roi_small\", \"data.csv\")\n",
    "        data_df = pd.read_csv(data_file)\n",
    "        \n",
    "        power_com_x[delay][power] = data_df.loc[delay][\"poff_com_x\"] - data_df.loc[delay][\"pon_com_x\"]\n",
    "\n",
    "    ax.plot(power_com_x[delay].keys(), power_com_x[delay].values(), \".-\")\n",
    "    ax.text(list(power_com_x[delay].keys())[-1] + 1, list(power_com_x[delay].values())[-1], f\"delay {delay}\", va='center', ha='left')\n",
    "\n",
    "ax.set_xlabel(\"Power [%]\")\n",
    "ax.set_ylabel(\"COM X\")\n",
    "\n",
    "# 범례를 가로로 배치\n",
    "# ax.legend(bbox_to_anchor=(0.5, -0.15), loc='upper center', ncol=5, borderaxespad=0.)\n",
    "\n",
    "# 그래프와 범례 사이의 간격 조정\n",
    "fig.tight_layout()"
   ]
  },
  {
   "cell_type": "code",
   "execution_count": 98,
   "metadata": {},

   "source": [
    "power_com_x_2d = []\n",
    "for delay in power_com_x:\n",
    "    power_com_x_2d.append(list(power_com_x[delay].values()))\n",
    "power_com_x_2d = np.array(power_com_x_2d)\n",
    "power_com_x_2d"
   ]
  },
  {
   "cell_type": "code",
   "execution_count": 99,
   "metadata": {},

   "source": [
    "fig, ax = plt.subplots(1, 1, figsize=(8, 8))\n",
    "\n",
    "im = ax.imshow(power_com_x_2d.T, cmap='viridis')\n",
    "\n",
    "cbar = fig.colorbar(im, ax=ax, orientation='horizontal')\n",
    "cbar.set_label('COM X', fontsize=12)\n",
    "\n",
    "ax.set_title('Title of the Plot', fontsize=14)\n",
    "\n",
    "ax.set_xlabel('Delay', fontsize=12)\n",
    "ax.set_ylabel('Power', fontsize=12)\n",
    "\n",
    "ax.tick_params(axis='both', which='major', labelsize=10)\n",
    "\n",
    "plt.tight_layout()\n",
    "plt.show()"
   ]
  },
  {
   "cell_type": "code",
   "execution_count": 100,
   "metadata": {},

   "source": [
    "import numpy as np\n",
    "import matplotlib.pyplot as plt\n",
    "from scipy.interpolate import RegularGridInterpolator\n",
    "\n",
    "# 원래 좌표\n",
    "x = delays\n",
    "y = np.arange(len(power_run))\n",
    "\n",
    "# 새로운 좌표\n",
    "new_x = delays\n",
    "new_y = list(power_run.keys())\n",
    "# new_y = [1, 2, 3, 4, 5, 6, 7, 8, 9, 10, 11, 12]\n",
    "\n",
    "# RegularGridInterpolator 생성\n",
    "interp_func = RegularGridInterpolator(\n",
    "    (y, x),\n",
    "    power_com_x_2d.T,\n",
    "    method='linear', bounds_error=False, fill_value=None\n",
    ")\n",
    "\n",
    "# 새로운 좌표에 맞게 데이터 보간\n",
    "X, Y = np.meshgrid(new_x, new_y)\n",
    "points = np.column_stack((Y.ravel(), X.ravel()))\n",
    "new_power_com_x_2d = interp_func(points).reshape(X.shape)\n",
    "\n",
    "# 그래프 생성\n",
    "fig, ax = plt.subplots(1, 1, figsize=(8, 8))\n",
    "\n",
    "# 이미지 표시\n",
    "im = ax.imshow(\n",
    "    -new_power_com_x_2d,\n",
    "    extent=[new_x.min(), new_x.max(), new_y[0], new_y[-1]]\n",
    ")\n",
    "\n",
    "# 컬러바 추가\n",
    "cbar = fig.colorbar(im, ax=ax, orientation='horizontal')\n",
    "cbar.set_label('COM X', fontsize=12)\n",
    "\n",
    "# 제목 추가\n",
    "ax.set_title('Title of the Plot', fontsize=14)\n",
    "\n",
    "# x축 및 y축 라벨 추가\n",
    "ax.set_xlabel('Delay', fontsize=12)\n",
    "ax.set_ylabel('Power', fontsize=12)\n",
    "\n",
    "# 틱 라벨 크기 조정\n",
    "ax.tick_params(axis='both', which='major', labelsize=10)\n",
    "\n",
    "# 그래프 표시\n",
    "plt.tight_layout()\n",
    "plt.show()"
   ]
  },
  {
   "cell_type": "code",
   "execution_count": null,
   "metadata": {},
   "outputs": [],
   "source": []
  }
 ],
 "metadata": {
  "kernelspec": {
   "display_name": "xfel",
   "language": "python",
   "name": "python3"
  },
  "language_info": {
   "codemirror_mode": {
    "name": "ipython",
    "version": 3
   },
   "file_extension": ".py",
   "mimetype": "text/x-python",
   "name": "python",
   "nbconvert_exporter": "python",
   "pygments_lexer": "ipython3",
   "version": "3.9.18"
  }
 },
 "nbformat": 4,
 "nbformat_minor": 2
}
