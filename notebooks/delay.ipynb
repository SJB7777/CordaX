{
 "cells": [
  {
   "cell_type": "code",
   "execution_count": 1,
   "metadata": {},
   "outputs": [],
   "source": [
    "import sys\n",
    "import os\n",
    "\n",
    "package_path = '..'\n",
    "if package_path not in sys.path:\n",
    "    sys.path.append(package_path)"
   ]
  },
  {
   "cell_type": "code",
   "execution_count": 2,
   "metadata": {},
   "outputs": [],
   "source": [
    "%load_ext autoreload\n",
    "%autoreload 2"
   ]
  },
  {
   "cell_type": "markdown",
   "metadata": {},
   "source": [
    "# Main NoteBook"
   ]
  },
  {
   "cell_type": "code",
   "execution_count": 3,
   "metadata": {},
   "outputs": [
    {
     "data": {
      
     },
     "execution_count": 3,
     "metadata": {},
     "output_type": "execute_result"
    }
   ],
   "source": [
    "from src.analyzer.core import DataAnalyzer\n",
    "from src.config.config import load_config\n",
    "from src.utils.file_util import get_run_scan_directory\n",
    "config = load_config()\n",
    "config"
   ]
  },
  {
   "cell_type": "code",
   "execution_count": 4,
   "metadata": {},
   "outputs": [],
   "source": [
    "import matplotlib.pyplot as plt\n",
    "import pandas as pd\n",
    "import numpy as np"
   ]
  },
  {
   "cell_type": "code",
   "execution_count": 73,
   "metadata": {},
   "outputs": [],
   "source": [
    "power_run = {\n",
    "    1: 37,\n",
    "    # 2: 38,\n",
    "    3: 39,\n",
    "    4: 40,\n",
    "    # 5: 41,\n",
    "    6: 42,\n",
    "    # 7: 43,\n",
    "    # 8: 44,\n",
    "    9: 45,\n",
    "    # 10: 46,\n",
    "    15: 47,\n",
    "    # 20: 48\n",
    "}"
   ]
  },
  {
   "cell_type": "code",
   "execution_count": 21,
   "metadata": {},
   "outputs": [],
   "source": [
    "power_run = {\n",
    "    1: 37,\n",
    "    2: 38,\n",
    "    3: 39,\n",
    "    4: 40,\n",
    "    5: 41,\n",
    "    6: 42,\n",
    "    7: 43,\n",
    "    8: 44,\n",
    "    9: 45,\n",
    "    10: 46,\n",
    "    15: 47,\n",
    "    20: 48\n",
    "}"
   ]
  },
  {
   "cell_type": "code",
   "execution_count": 22,
   "metadata": {},
   "outputs": [],
   "source": [
    "power_run_2 = {\n",
    "    6: 92,\n",
    "    8: 91,\n",
    "    10: 90,\n",
    "    11: 89,\n",
    "    12: 88,\n",
    "    13: 87,\n",
    "    14: 86,\n",
    "    15: 85, # 79, 85\n",
    "    16: 80,\n",
    "    17: 81,\n",
    "    18: 82,\n",
    "    19: 83,\n",
    "    20: 84\n",
    "}"
   ]
  },
  {
   "cell_type": "code",
   "execution_count": 74,
   "metadata": {},
   "outputs": [],
   "source": [
    "power_com_x = {}\n",
    "power_com_y = {}\n",
    "power_intensity = {}\n",
    "image_dir: str = config.path.image_dir\n",
    "for power, run_num in power_run.items():\n",
    "    data_file = os.path.join(get_run_scan_directory(image_dir, run_num, 1), \"roi_small\", \"data.csv\")\n",
    "    data_df = pd.read_csv(data_file)\n",
    "    power_com_x[power] = data_df[\"poff_com_x\"].values - data_df[\"pon_com_x\"].values\n",
    "    power_com_y[power] = data_df[\"poff_com_y\"].values - data_df[\"pon_com_y\"].values\n",
    "    power_intensity[power] = data_df[\"poff_intensity\"].values - data_df[\"pon_intensity\"].values\n",
    "\n",
    "delays = data_df.index.values"
   ]
  },
  {
   "cell_type": "code",
   "execution_count": 10,
   "metadata": {},
   "outputs": [
    {
     "data": {
      "text/plain": [
       "<Figure size 800x1000 with 2 Axes>"
      ]
     },
     "metadata": {},
     "output_type": "display_data"
    }
   ],
   "source": [
    "import matplotlib.pyplot as plt\n",
    "import seaborn as sns\n",
    "\n",
    "# 글꼴 및 텍스트 설정\n",
    "plt.rcParams['font.size'] = 12\n",
    "plt.rcParams['font.family'] = 'serif'\n",
    "\n",
    "fig, ax = plt.subplots(2, 1, figsize=(8, 10))\n",
    "\n",
    "for power, com_x, com_y in zip(power_run, power_com_x.values(), power_com_y.values()):\n",
    "    ax[0].plot(delays, com_x, \".-\", label=f'{power}%')\n",
    "    ax[1].plot(delays, com_y, \".-\", label=f'{power}%')\n",
    "\n",
    "    ax[0].text(delays[-1] + 1, com_x[-1], f'{power}%', va='center', ha='left')\n",
    "    ax[1].text(delays[-1] + 1, com_y[-1], f'{power}%', va='center', ha='left')\n",
    "\n",
    "fig.suptitle(f\"Different Powers in {list(power_run)}\", fontsize=14)\n",
    "\n",
    "ax[0].set_title('COM x over Delays for Different Powers', fontsize=12)\n",
    "ax[1].set_title('COM y over Delays for Different Powers', fontsize=12)\n",
    "\n",
    "ax[0].set_ylabel('COM x', fontsize=12)\n",
    "ax[1].set_ylabel('COM y', fontsize=12)\n",
    "\n",
    "ax[0].set_xlim(-5, 65)\n",
    "ax[1].set_xlim(-5, 65)\n",
    "ax[0].set_ylim(-0.0025, 0.0005)\n",
    "ax[1].set_ylim(-0.00025, 0.0015)\n",
    "\n",
    "ax[1].set_xlabel('Delays', fontsize=12)\n",
    "\n",
    "ax[0].legend(fontsize=10, loc='best')\n",
    "ax[1].legend(fontsize=10, loc='best')\n",
    "\n",
    "ax[0].grid(True, linestyle='--', alpha=0.5)\n",
    "ax[1].grid(True, linestyle='--', alpha=0.5)\n",
    "\n",
    "ax[0].tick_params(axis='both', which='major', labelsize=10)\n",
    "ax[1].tick_params(axis='both', which='major', labelsize=10)\n",
    "\n",
    "plt.tight_layout();"
   ]
  },
  {
   "cell_type": "markdown",
   "metadata": {},
   "source": [
    "# Delay at 30 ps"
   ]
  },
  {
   "cell_type": "code",
   "execution_count": 75,
   "metadata": {},
   "outputs": [
    {
     "data": {
      "text/plain": [
       "<Figure size 640x480 with 1 Axes>"
      ]
     },
     "metadata": {},
     "output_type": "display_data"
    }
   ],
   "source": [
    "power_com_x_30 = {}\n",
    "power_com_y_30 = {}\n",
    "\n",
    "for power, run_num in power_run.items():\n",
    "    data_file = os.path.join(get_run_scan_directory(image_dir, run_num, 1), \"roi_small\", \"data.csv\")\n",
    "    data_df = pd.read_csv(data_file)\n",
    "    power_com_x_30[power] = data_df.loc[30][\"pon_com_x\"]\n",
    "    power_com_y_30[power] = data_df.loc[30][\"pon_com_y\"]\n",
    "\n",
    "plt.plot(power_com_x_30.keys(), power_com_x_30.values(), \".-\")\n",
    "plt.plot(power_com_y_30.keys(), power_com_y_30.values(), \".-\")\n",
    "\n",
    "plt.xlabel(\"Power [%]\");"
   ]
  },
  {
   "cell_type": "code",
   "execution_count": 12,
   "metadata": {},
   "outputs": [
    {
     "data": {
      
      "text/plain": [
       "<Figure size 640x480 with 1 Axes>"
      ]
     },
     "metadata": {},
     "output_type": "display_data"
    }
   ],
   "source": [
    "power_com_x_40 = {}\n",
    "power_com_y_40 = {}\n",
    "\n",
    "for power, run_num in power_run.items():\n",
    "    data_file = os.path.join(get_run_scan_directory(image_dir, run_num, 1), \"roi_small\", \"data.csv\")\n",
    "    data_df = pd.read_csv(data_file)\n",
    "    power_com_x_40[power] = data_df.loc[40][\"pon_com_x\"]\n",
    "    power_com_y_40[power] = data_df.loc[40][\"pon_com_y\"]\n",
    "\n",
    "plt.plot(power_com_x_40.keys(), power_com_x_40.values(), \".-\")\n",
    "plt.plot(power_com_y_40.keys(), power_com_y_40.values(), \".-\")\n",
    "\n",
    "plt.xlabel(\"Power [%]\");"
   ]
  },
  {
   "cell_type": "code",
   "execution_count": 13,
   "metadata": {},
   "outputs": [
    {
     "data": {
      
      "text/plain": [
       "<Figure size 640x480 with 1 Axes>"
      ]
     },
     "metadata": {},
     "output_type": "display_data"
    }
   ],
   "source": [
    "power_com_x_50 = {}\n",
    "power_com_y_50 = {}\n",
    "\n",
    "for power, run_num in power_run.items():\n",
    "    data_file = os.path.join(get_run_scan_directory(image_dir, run_num, 1), \"roi_small\", \"data.csv\")\n",
    "    data_df = pd.read_csv(data_file)\n",
    "    power_com_x_50[power] = data_df.loc[50][\"pon_com_x\"]\n",
    "    power_com_y_50[power] = data_df.loc[50][\"pon_com_y\"]\n",
    "\n",
    "plt.plot(power_com_x_50.keys(), power_com_x_50.values(), \".-\")\n",
    "plt.plot(power_com_y_50.keys(), power_com_y_50.values(), \".-\")\n",
    "\n",
    "plt.xlabel(\"Power [%]\");"
   ]
  },
  {
   "cell_type": "code",
   "execution_count": 97,
   "metadata": {},
   "outputs": [
    {
     "data": {
      
      "text/plain": [
       "<Figure size 800x1000 with 1 Axes>"
      ]
     },
     "metadata": {},
     "output_type": "display_data"
    }
   ],
   "source": [
    "fig, ax = plt.subplots(1, 1, figsize=(8, 10))\n",
    "\n",
    "power_com_x = {}\n",
    "delay_list = delays[::]\n",
    "for delay in delay_list:\n",
    "    power_com_x[delay] = {}\n",
    "\n",
    "    for power, run_num in power_run.items():\n",
    "        data_file = os.path.join(get_run_scan_directory(image_dir, run_num, 1), \"roi_small\", \"data.csv\")\n",
    "        data_df = pd.read_csv(data_file)\n",
    "        \n",
    "        power_com_x[delay][power] = data_df.loc[delay][\"poff_com_x\"] - data_df.loc[delay][\"pon_com_x\"]\n",
    "\n",
    "    ax.plot(power_com_x[delay].keys(), power_com_x[delay].values(), \".-\")\n",
    "    ax.text(list(power_com_x[delay].keys())[-1] + 1, list(power_com_x[delay].values())[-1], f\"delay {delay}\", va='center', ha='left')\n",
    "\n",
    "ax.set_xlabel(\"Power [%]\")\n",
    "ax.set_ylabel(\"COM X\")\n",
    "\n",
    "# 범례를 가로로 배치\n",
    "# ax.legend(bbox_to_anchor=(0.5, -0.15), loc='upper center', ncol=5, borderaxespad=0.)\n",
    "\n",
    "# 그래프와 범례 사이의 간격 조정\n",
    "fig.tight_layout()"
   ]
  },
  {
   "cell_type": "code",
   "execution_count": 98,
   "metadata": {},
   "outputs": [
    {
     "data": {
      "text/plain": [
       "array([[ 0.00000000e+00,  0.00000000e+00,  0.00000000e+00,\n",
       "         0.00000000e+00,  0.00000000e+00,  0.00000000e+00],\n",
       "       [-2.99234609e-05, -2.36948677e-05, -1.33150310e-05,\n",
       "         2.69422646e-05,  3.62664722e-05, -3.49078463e-06],\n",
       "       [ 9.42153281e-06, -5.56378172e-06,  2.02182540e-05,\n",
       "         3.35158776e-06,  3.98825045e-05,  2.90407755e-05],\n",
       "       [-3.39835524e-05,  9.85894615e-06,  4.38679155e-06,\n",
       "         7.40506798e-06, -2.48890446e-05,  1.36828118e-07],\n",
       "       [ 1.01695811e-05, -8.73644164e-07,  1.73143381e-05,\n",
       "         1.27568194e-06, -3.39232911e-06,  1.69877177e-06],\n",
       "       [-5.79677673e-05, -2.29571801e-06, -3.97579259e-05,\n",
       "         1.32568386e-06,  1.66908593e-05, -1.20692411e-05],\n",
       "       [-1.20709406e-05, -2.40687321e-05, -3.25245268e-05,\n",
       "        -4.62988756e-05, -7.31663020e-05, -1.95399310e-04],\n",
       "       [-6.45103569e-05, -2.17258196e-05, -8.54501938e-05,\n",
       "        -1.00176623e-04, -2.36150547e-04, -4.02736462e-04],\n",
       "       [-3.48660339e-05, -1.47247074e-05, -1.03414808e-04,\n",
       "        -1.19944948e-04, -2.46542036e-04, -5.99964794e-04],\n",
       "       [ 1.42111219e-06, -6.26529274e-05, -1.21873586e-04,\n",
       "        -1.44483308e-04, -3.52241609e-04, -8.52216124e-04],\n",
       "       [ 4.08519012e-06, -7.45205071e-05, -1.44783424e-04,\n",
       "        -1.82136443e-04, -3.72759359e-04, -9.91247861e-04],\n",
       "       [-1.92824909e-05, -6.62760243e-05, -1.54893168e-04,\n",
       "        -1.68819247e-04, -4.57067134e-04, -1.14923313e-03],\n",
       "       [-5.80283860e-05, -5.99279109e-05, -1.42820857e-04,\n",
       "        -1.83217165e-04, -4.10204994e-04, -1.14708915e-03],\n",
       "       [-3.94251038e-05, -8.33607450e-05, -1.49962550e-04,\n",
       "        -1.95337645e-04, -3.56358488e-04, -9.56940077e-04],\n",
       "       [-3.02955048e-05, -3.09276052e-05, -1.46999929e-04,\n",
       "        -1.39564987e-04, -3.57001288e-04, -7.08485645e-04],\n",
       "       [-1.05172987e-05, -2.94406273e-05, -1.32051725e-04,\n",
       "        -1.03307489e-04, -2.71450553e-04, -4.31274161e-04],\n",
       "       [-1.36414450e-05, -6.10032254e-05, -8.42790477e-05,\n",
       "        -8.73658559e-05, -2.33000413e-04, -4.01526582e-04],\n",
       "       [-1.58524723e-05, -4.06385193e-05, -6.59523163e-05,\n",
       "        -1.15052738e-04, -1.46515650e-04, -3.10381303e-04],\n",
       "       [ 6.19402362e-06, -5.63976962e-05, -6.25804033e-05,\n",
       "        -6.54620958e-05, -1.81174618e-04, -3.46694021e-04],\n",
       "       [-2.86383345e-06, -4.25230772e-05, -4.37712232e-05,\n",
       "        -9.05416296e-05, -2.07972492e-04, -4.35391159e-04],\n",
       "       [-8.30355388e-06, -1.89860695e-05, -7.61176101e-05,\n",
       "        -7.70509070e-05, -3.28045976e-04, -5.21576775e-04],\n",
       "       [-1.95947204e-05, -1.56926845e-05, -8.77873266e-05,\n",
       "        -1.29325548e-04, -2.34482355e-04, -7.25013885e-04],\n",
       "       [-1.75456841e-05, -6.73053178e-05, -9.94078945e-05,\n",
       "        -2.04754113e-04, -3.82488549e-04, -9.05522500e-04],\n",
       "       [-5.62170589e-05, -4.23300613e-05, -1.60321215e-04,\n",
       "        -1.84690103e-04, -4.56787464e-04, -1.06220707e-03],\n",
       "       [-1.84932690e-05, -7.60164340e-05, -1.70802365e-04,\n",
       "        -2.27332529e-04, -5.18480468e-04, -1.32692600e-03],\n",
       "       [-4.66416113e-05, -7.16043478e-05, -1.50264861e-04,\n",
       "        -2.97180902e-04, -5.88124854e-04, -1.41877878e-03],\n",
       "       [-1.23328553e-05, -7.72810208e-05, -2.14933415e-04,\n",
       "        -2.99304156e-04, -6.35577142e-04, -1.36102715e-03],\n",
       "       [-1.62995151e-05, -7.60969637e-05, -2.12056373e-04,\n",
       "        -3.18735844e-04, -6.08583476e-04, -1.37431390e-03],\n",
       "       [-3.40380876e-05, -7.31196287e-05, -1.29614304e-04,\n",
       "        -2.81672077e-04, -6.38575177e-04, -1.23568101e-03],\n",
       "       [-3.22324054e-06, -4.64037151e-05, -1.50724073e-04,\n",
       "        -2.79622011e-04, -5.59411002e-04, -1.06060604e-03],\n",
       "       [-2.95001122e-05, -8.65263047e-05, -6.68486448e-05,\n",
       "        -2.42532837e-04, -4.60850190e-04, -8.04567781e-04],\n",
       "       [-2.75756157e-05, -5.09500701e-05, -1.20755498e-04,\n",
       "        -2.21526178e-04, -3.82457360e-04, -5.75617271e-04],\n",
       "       [-2.41714374e-05, -3.45546788e-05, -8.77321651e-05,\n",
       "        -1.56350283e-04, -3.56911050e-04, -5.00780350e-04],\n",
       "       [-2.03374224e-05, -5.93635711e-05, -7.55163097e-05,\n",
       "        -1.82669743e-04, -3.54584585e-04, -4.54182902e-04],\n",
       "       [-5.21150170e-05, -6.64003200e-05, -6.76804166e-05,\n",
       "        -1.60246892e-04, -3.16032277e-04, -3.31615358e-04],\n",
       "       [-3.11012173e-05, -4.30712035e-05, -8.65525474e-05,\n",
       "        -1.90971205e-04, -3.42460622e-04, -3.93028215e-04],\n",
       "       [-2.88061104e-05, -4.06208864e-05, -8.86069176e-05,\n",
       "        -1.60899962e-04, -3.34910637e-04, -5.12031241e-04],\n",
       "       [-3.65877650e-05, -5.73115142e-05, -1.42086924e-04,\n",
       "        -2.58274979e-04, -4.05246403e-04, -7.35962350e-04],\n",
       "       [-3.47953603e-05, -6.91387633e-05, -9.82220885e-05,\n",
       "        -2.89992847e-04, -5.64825371e-04, -1.02072624e-03],\n",
       "       [-4.16898014e-05, -1.07208509e-04, -1.59419175e-04,\n",
       "        -3.08803207e-04, -5.63713172e-04, -1.28977993e-03],\n",
       "       [-1.34987256e-05, -9.27216326e-05, -1.58953022e-04,\n",
       "        -3.33831713e-04, -6.37100050e-04, -1.41380117e-03],\n",
       "       [-5.08062166e-05, -7.70782384e-05, -1.52623061e-04,\n",
       "        -3.69507755e-04, -6.53012932e-04, -1.40440272e-03],\n",
       "       [-2.82773034e-05, -8.36542878e-05, -1.50479840e-04,\n",
       "        -3.53211394e-04, -6.66699192e-04, -1.52374294e-03],\n",
       "       [-5.24323762e-05, -9.68899068e-05, -1.85541306e-04,\n",
       "        -3.80098779e-04, -7.94160898e-04, -1.41829202e-03],\n",
       "       [-2.55812032e-05, -9.20226989e-05, -1.47298465e-04,\n",
       "        -3.60113380e-04, -7.33713483e-04, -1.13650454e-03],\n",
       "       [ 4.31205664e-06, -8.84029491e-05, -1.61790655e-04,\n",
       "        -4.16767860e-04, -6.07061231e-04, -1.06018877e-03],\n",
       "       [-2.11431615e-05, -7.15446687e-05, -1.72894407e-04,\n",
       "        -2.66924039e-04, -5.47069663e-04, -8.24443474e-04],\n",
       "       [-1.44050124e-05, -6.74662487e-05, -8.90519279e-05,\n",
       "        -2.61144018e-04, -5.14612240e-04, -8.48300073e-04],\n",
       "       [-1.17992379e-05, -9.27265124e-05, -9.75693332e-05,\n",
       "        -2.57460101e-04, -4.92716034e-04, -8.44776680e-04],\n",
       "       [-1.83258177e-05, -6.37635979e-05, -9.99388787e-05,\n",
       "        -2.01205470e-04, -5.11490439e-04, -8.42531488e-04],\n",
       "       [-1.62889338e-05, -9.30022919e-05, -1.06255093e-04,\n",
       "        -2.09171314e-04, -4.52704864e-04, -8.26018828e-04],\n",
       "       [-2.76052469e-05, -6.17541047e-05, -1.13504295e-04,\n",
       "        -3.19691486e-04, -5.00564471e-04, -8.37960083e-04],\n",
       "       [-3.80018569e-05, -1.16928361e-04, -1.65361937e-04,\n",
       "        -3.37675430e-04, -5.02122608e-04, -8.93961197e-04],\n",
       "       [-5.28709037e-06, -7.79981652e-05, -1.66881122e-04,\n",
       "        -4.09743978e-04, -6.73056264e-04, -1.06289335e-03],\n",
       "       [-5.31663442e-05, -1.22205824e-04, -2.00065752e-04,\n",
       "        -4.67814427e-04, -7.59697492e-04, -1.12059844e-03],\n",
       "       [-2.09484400e-05, -1.00579693e-04, -1.71387893e-04,\n",
       "        -4.49086968e-04, -7.30830363e-04, -1.21559478e-03],\n",
       "       [-2.55680592e-05, -1.14154711e-04, -2.41330333e-04,\n",
       "        -4.38116371e-04, -8.27552491e-04, -1.27513379e-03],\n",
       "       [-2.36967438e-05, -1.18936223e-04, -1.87743236e-04,\n",
       "        -4.21867921e-04, -7.17257796e-04, -1.38217658e-03],\n",
       "       [-3.76037608e-05, -1.34137653e-04, -1.68101077e-04,\n",
       "        -4.62450759e-04, -7.94477986e-04, -1.36530908e-03],\n",
       "       [-2.54189312e-05, -8.83585692e-05, -1.78793449e-04,\n",
       "        -4.39118121e-04, -7.72596041e-04, -1.33025443e-03]])"
      ]
     },
     "execution_count": 98,
     "metadata": {},
     "output_type": "execute_result"
    }
   ],
   "source": [
    "power_com_x_2d = []\n",
    "for delay in power_com_x:\n",
    "    power_com_x_2d.append(list(power_com_x[delay].values()))\n",
    "power_com_x_2d = np.array(power_com_x_2d)\n",
    "power_com_x_2d"
   ]
  },
  {
   "cell_type": "code",
   "execution_count": 99,
   "metadata": {},
   "outputs": [
    {
     "data": {
      
      "text/plain": [
       "<Figure size 800x800 with 2 Axes>"
      ]
     },
     "metadata": {},
     "output_type": "display_data"
    }
   ],
   "source": [
    "fig, ax = plt.subplots(1, 1, figsize=(8, 8))\n",
    "\n",
    "im = ax.imshow(power_com_x_2d.T, cmap='viridis')\n",
    "\n",
    "cbar = fig.colorbar(im, ax=ax, orientation='horizontal')\n",
    "cbar.set_label('COM X', fontsize=12)\n",
    "\n",
    "ax.set_title('Title of the Plot', fontsize=14)\n",
    "\n",
    "ax.set_xlabel('Delay', fontsize=12)\n",
    "ax.set_ylabel('Power', fontsize=12)\n",
    "\n",
    "ax.tick_params(axis='both', which='major', labelsize=10)\n",
    "\n",
    "plt.tight_layout()\n",
    "plt.show()"
   ]
  },
  {
   "cell_type": "code",
   "execution_count": 100,
   "metadata": {},
   "outputs": [
    {
     "data": {
     
      "text/plain": [
       "<Figure size 800x800 with 2 Axes>"
      ]
     },
     "metadata": {},
     "output_type": "display_data"
    }
   ],
   "source": [
    "import numpy as np\n",
    "import matplotlib.pyplot as plt\n",
    "from scipy.interpolate import RegularGridInterpolator\n",
    "\n",
    "# 원래 좌표\n",
    "x = delays\n",
    "y = np.arange(len(power_run))\n",
    "\n",
    "# 새로운 좌표\n",
    "new_x = delays\n",
    "new_y = list(power_run.keys())\n",
    "# new_y = [1, 2, 3, 4, 5, 6, 7, 8, 9, 10, 11, 12]\n",
    "\n",
    "# RegularGridInterpolator 생성\n",
    "interp_func = RegularGridInterpolator(\n",
    "    (y, x),\n",
    "    power_com_x_2d.T,\n",
    "    method='linear', bounds_error=False, fill_value=None\n",
    ")\n",
    "\n",
    "# 새로운 좌표에 맞게 데이터 보간\n",
    "X, Y = np.meshgrid(new_x, new_y)\n",
    "points = np.column_stack((Y.ravel(), X.ravel()))\n",
    "new_power_com_x_2d = interp_func(points).reshape(X.shape)\n",
    "\n",
    "# 그래프 생성\n",
    "fig, ax = plt.subplots(1, 1, figsize=(8, 8))\n",
    "\n",
    "# 이미지 표시\n",
    "im = ax.imshow(\n",
    "    -new_power_com_x_2d,\n",
    "    extent=[new_x.min(), new_x.max(), new_y[0], new_y[-1]]\n",
    ")\n",
    "\n",
    "# 컬러바 추가\n",
    "cbar = fig.colorbar(im, ax=ax, orientation='horizontal')\n",
    "cbar.set_label('COM X', fontsize=12)\n",
    "\n",
    "# 제목 추가\n",
    "ax.set_title('Title of the Plot', fontsize=14)\n",
    "\n",
    "# x축 및 y축 라벨 추가\n",
    "ax.set_xlabel('Delay', fontsize=12)\n",
    "ax.set_ylabel('Power', fontsize=12)\n",
    "\n",
    "# 틱 라벨 크기 조정\n",
    "ax.tick_params(axis='both', which='major', labelsize=10)\n",
    "\n",
    "# 그래프 표시\n",
    "plt.tight_layout()\n",
    "plt.show()"
   ]
  },
  {
   "cell_type": "code",
   "execution_count": null,
   "metadata": {},
   "outputs": [],
   "source": []
  }
 ],
 "metadata": {
  "kernelspec": {
   "display_name": "xfel",
   "language": "python",
   "name": "python3"
  },
  "language_info": {
   "codemirror_mode": {
    "name": "ipython",
    "version": 3
   },
   "file_extension": ".py",
   "mimetype": "text/x-python",
   "name": "python",
   "nbconvert_exporter": "python",
   "pygments_lexer": "ipython3",
   "version": "3.9.18"
  }
 },
 "nbformat": 4,
 "nbformat_minor": 2
}
