{
 "cells": [
  {
   "cell_type": "code",
   "execution_count": null,
   "id": "3ea62eb0",
   "metadata": {},
   "outputs": [
    {
     "data": {
      "text/plain": [
       "['PyYAML',\n",
       " 'click',\n",
       " 'h5py',\n",
       " 'hdf5plugin',\n",
       " 'ipykernel',\n",
       " 'jupyter',\n",
       " 'lmfit',\n",
       " 'lmfit',\n",
       " 'loguru',\n",
       " 'matplotlib',\n",
       " 'numpy',\n",
       " 'pandas',\n",
       " 'pydantic',\n",
       " 'radon',\n",
       " 'roi_rectangle',\n",
       " 'scikit-image',\n",
       " 'scikit_learn',\n",
       " 'scipy',\n",
       " 'tables',\n",
       " 'tifffile',\n",
       " 'tqdm',\n",
       " 'tuna']"
      ]
     },
     "execution_count": 1,
     "metadata": {},
     "output_type": "execute_result"
    }
   ],
   "source": [
    "dependencies = [\"h5py\",\n",
    "    \"hdf5plugin\",\n",
    "    \"tables\",\n",
    "    \"loguru\",\n",
    "    \"numpy\",\n",
    "    \"matplotlib\",\n",
    "    \"pandas\",\n",
    "    \"pydantic\",\n",
    "    \"PyYAML\",\n",
    "    \"radon\",\n",
    "    \"tifffile\",\n",
    "    \"tqdm\",\n",
    "    \"scipy\",\n",
    "    \"scikit-image\",\n",
    "    \"scikit_learn\",\n",
    "    \"lmfit\",\n",
    "    \"roi_rectangle\",\n",
    "    \"ipykernel\",\n",
    "    \"tuna\",\n",
    "    \"lmfit\",\n",
    "    \"click\",\n",
    "    \"jupyter\",\n",
    "    \"ipykernel\"\n",
    "]\n",
    "\n",
    "sorted(dependencies)"
   ]
  }
 ],
 "metadata": {
  "kernelspec": {
   "display_name": "CordaX",
   "language": "python",
   "name": "python3"
  },
  "language_info": {
   "codemirror_mode": {
    "name": "ipython",
    "version": 3
   },
   "file_extension": ".py",
   "mimetype": "text/x-python",
   "name": "python",
   "nbconvert_exporter": "python",
   "pygments_lexer": "ipython3",
   "version": "3.13.6"
  }
 },
 "nbformat": 4,
 "nbformat_minor": 5
}
